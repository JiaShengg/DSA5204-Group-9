{
 "cells": [
  {
   "cell_type": "code",
   "execution_count": 9,
   "id": "7a83826a",
   "metadata": {},
   "outputs": [
    {
     "name": "stdout",
     "output_type": "stream",
     "text": [
      "The autoreload extension is already loaded. To reload it, use:\n",
      "  %reload_ext autoreload\n"
     ]
    }
   ],
   "source": [
    "import tensorflow as tf\n",
    "import numpy as np\n",
    "import pandas as pd\n",
    "import json\n",
    "import matplotlib.pyplot as plt\n",
    "\n",
    "from pathlib import Path\n",
    "from param_search import (generate_configs, \n",
    "                          train_model, \n",
    "                          export_model_outputs, \n",
    "                          plot_all_model_metrics, \n",
    "                          compare_models, \n",
    "                          plot_raw_lob_snapshot)\n",
    "from lob_gan import plot_lob_snapshot, Config\n",
    "\n",
    "%load_ext autoreload\n",
    "%autoreload 2"
   ]
  },
  {
   "cell_type": "code",
   "execution_count": 27,
   "id": "88d85ae1",
   "metadata": {},
   "outputs": [],
   "source": [
    "# os.environ['TF_CPP_MIN_LOG_LEVEL'] = '2'\n",
    "tf.config.list_physical_devices('GPU')\n",
    "tf.keras.backend.clear_session()"
   ]
  },
  {
   "cell_type": "code",
   "execution_count": 28,
   "id": "559624ea",
   "metadata": {},
   "outputs": [],
   "source": [
    "GRID_TYPE = 'all' #Choose \"baseline\", \"fm_only\", \"mbd_only\", \"ls_only\", \"all\"\n",
    "FILE_PATH = Path('BTCUSDT-lob.parq')\n",
    "OUTPUT_DIR = Path('output')\n",
    "OUTPUT_DIR.mkdir(exist_ok=True)\n",
    "\n",
    "raw_data = pd.read_parquet(FILE_PATH, engine='pyarrow')\n",
    "configs = generate_configs(GRID_TYPE, size=20, seed=5204)"
   ]
  },
  {
   "cell_type": "code",
   "execution_count": null,
   "id": "103ad1e6",
   "metadata": {},
   "outputs": [
    {
     "name": "stderr",
     "output_type": "stream",
     "text": [
      "  2%|▏         | 1/64 [00:04<04:50,  4.60s/it]\n"
     ]
    },
    {
     "ename": "KeyboardInterrupt",
     "evalue": "",
     "output_type": "error",
     "traceback": [
      "\u001b[1;31m---------------------------------------------------------------------------\u001b[0m",
      "\u001b[1;31mKeyboardInterrupt\u001b[0m                         Traceback (most recent call last)",
      "Cell \u001b[1;32mIn[5], line 10\u001b[0m\n\u001b[0;32m      7\u001b[0m configs \u001b[38;5;241m=\u001b[39m generate_configs(GRID_TYPE, size\u001b[38;5;241m=\u001b[39m\u001b[38;5;241m20\u001b[39m, seed\u001b[38;5;241m=\u001b[39m\u001b[38;5;241m5204\u001b[39m)\n\u001b[0;32m      9\u001b[0m \u001b[38;5;28;01mfor\u001b[39;00m config \u001b[38;5;129;01min\u001b[39;00m configs:\n\u001b[1;32m---> 10\u001b[0m     \u001b[43mtrain_model\u001b[49m\u001b[43m(\u001b[49m\u001b[43moutput_dir\u001b[49m\u001b[38;5;241;43m=\u001b[39;49m\u001b[43mOUTPUT_DIR\u001b[49m\u001b[43m,\u001b[49m\u001b[43m \u001b[49m\u001b[43mraw_data\u001b[49m\u001b[38;5;241;43m=\u001b[39;49m\u001b[43mraw_data\u001b[49m\u001b[43m,\u001b[49m\u001b[43m \u001b[49m\u001b[43mconfig\u001b[49m\u001b[38;5;241;43m=\u001b[39;49m\u001b[43mconfig\u001b[49m\u001b[43m)\u001b[49m\n",
      "File \u001b[1;32mc:\\DSA5204\\DSA5204-Group-9\\lob\\param_search.py:74\u001b[0m, in \u001b[0;36mtrain_model\u001b[1;34m(output_dir, raw_data, config)\u001b[0m\n\u001b[0;32m     72\u001b[0m     f\u001b[38;5;241m.\u001b[39mwrite(config\u001b[38;5;241m.\u001b[39mto_json(indent\u001b[38;5;241m=\u001b[39m\u001b[38;5;241m2\u001b[39m))\n\u001b[0;32m     73\u001b[0m gan \u001b[38;5;241m=\u001b[39m ImprovedGAN(raw_data, config)\n\u001b[1;32m---> 74\u001b[0m outputs \u001b[38;5;241m=\u001b[39m \u001b[43mgan\u001b[49m\u001b[38;5;241;43m.\u001b[39;49m\u001b[43mtrain\u001b[49m\u001b[43m(\u001b[49m\u001b[43m)\u001b[49m\n\u001b[0;32m     75\u001b[0m outputs\u001b[38;5;241m.\u001b[39mdump(model_dir)\n\u001b[0;32m     76\u001b[0m \u001b[38;5;28mprint\u001b[39m(\u001b[38;5;124mf\u001b[39m\u001b[38;5;124m'\u001b[39m\u001b[38;5;124mfinished trainining \u001b[39m\u001b[38;5;132;01m{\u001b[39;00mkey\u001b[38;5;132;01m}\u001b[39;00m\u001b[38;5;124m'\u001b[39m)\n",
      "File \u001b[1;32mc:\\DSA5204\\DSA5204-Group-9\\lob\\lob_gan.py:448\u001b[0m, in \u001b[0;36mImprovedGAN.train\u001b[1;34m(self)\u001b[0m\n\u001b[0;32m    445\u001b[0m     \u001b[38;5;66;03m# insert historical averaging here\u001b[39;00m\n\u001b[0;32m    446\u001b[0m     epoch_metrics_list\u001b[38;5;241m.\u001b[39mappend(metrics)\n\u001b[1;32m--> 448\u001b[0m fake_batch \u001b[38;5;241m=\u001b[39m \u001b[38;5;28;43mself\u001b[39;49m\u001b[38;5;241;43m.\u001b[39;49m\u001b[43mgenerator\u001b[49m\u001b[38;5;241;43m.\u001b[39;49m\u001b[43mpredict\u001b[49m\u001b[43m(\u001b[49m\n\u001b[0;32m    449\u001b[0m \u001b[43m    \u001b[49m\u001b[38;5;28;43mself\u001b[39;49m\u001b[38;5;241;43m.\u001b[39;49m\u001b[43mfixed_noise\u001b[49m\u001b[43m,\u001b[49m\u001b[43m \u001b[49m\u001b[43mverbose\u001b[49m\u001b[38;5;241;43m=\u001b[39;49m\u001b[38;5;28;43;01mFalse\u001b[39;49;00m\u001b[43m)\u001b[49m\n\u001b[0;32m    450\u001b[0m lobs_list\u001b[38;5;241m.\u001b[39mappend(fake_batch)\n\u001b[0;32m    451\u001b[0m sample_stats \u001b[38;5;241m=\u001b[39m calculate_sample_stats(fake_batch)\n",
      "File \u001b[1;32mc:\\Users\\chiny\\anaconda3\\envs\\tf210gpu\\lib\\site-packages\\keras\\utils\\traceback_utils.py:65\u001b[0m, in \u001b[0;36mfilter_traceback.<locals>.error_handler\u001b[1;34m(*args, **kwargs)\u001b[0m\n\u001b[0;32m     63\u001b[0m filtered_tb \u001b[38;5;241m=\u001b[39m \u001b[38;5;28;01mNone\u001b[39;00m\n\u001b[0;32m     64\u001b[0m \u001b[38;5;28;01mtry\u001b[39;00m:\n\u001b[1;32m---> 65\u001b[0m     \u001b[38;5;28;01mreturn\u001b[39;00m fn(\u001b[38;5;241m*\u001b[39margs, \u001b[38;5;241m*\u001b[39m\u001b[38;5;241m*\u001b[39mkwargs)\n\u001b[0;32m     66\u001b[0m \u001b[38;5;28;01mexcept\u001b[39;00m \u001b[38;5;167;01mException\u001b[39;00m \u001b[38;5;28;01mas\u001b[39;00m e:\n\u001b[0;32m     67\u001b[0m     filtered_tb \u001b[38;5;241m=\u001b[39m _process_traceback_frames(e\u001b[38;5;241m.\u001b[39m__traceback__)\n",
      "File \u001b[1;32mc:\\Users\\chiny\\anaconda3\\envs\\tf210gpu\\lib\\site-packages\\keras\\engine\\training.py:2220\u001b[0m, in \u001b[0;36mModel.predict\u001b[1;34m(self, x, batch_size, verbose, steps, callbacks, max_queue_size, workers, use_multiprocessing)\u001b[0m\n\u001b[0;32m   2211\u001b[0m     \u001b[38;5;28;01mexcept\u001b[39;00m \u001b[38;5;167;01mValueError\u001b[39;00m:\n\u001b[0;32m   2212\u001b[0m         warnings\u001b[38;5;241m.\u001b[39mwarn(\n\u001b[0;32m   2213\u001b[0m             \u001b[38;5;124m\"\u001b[39m\u001b[38;5;124mUsing Model.predict with MultiWorkerMirroredStrategy \u001b[39m\u001b[38;5;124m\"\u001b[39m\n\u001b[0;32m   2214\u001b[0m             \u001b[38;5;124m\"\u001b[39m\u001b[38;5;124mor TPUStrategy and AutoShardPolicy.FILE might lead to \u001b[39m\u001b[38;5;124m\"\u001b[39m\n\u001b[1;32m   (...)\u001b[0m\n\u001b[0;32m   2217\u001b[0m             stacklevel\u001b[38;5;241m=\u001b[39m\u001b[38;5;241m2\u001b[39m,\n\u001b[0;32m   2218\u001b[0m         )\n\u001b[1;32m-> 2220\u001b[0m data_handler \u001b[38;5;241m=\u001b[39m \u001b[43mdata_adapter\u001b[49m\u001b[38;5;241;43m.\u001b[39;49m\u001b[43mget_data_handler\u001b[49m\u001b[43m(\u001b[49m\n\u001b[0;32m   2221\u001b[0m \u001b[43m    \u001b[49m\u001b[43mx\u001b[49m\u001b[38;5;241;43m=\u001b[39;49m\u001b[43mx\u001b[49m\u001b[43m,\u001b[49m\n\u001b[0;32m   2222\u001b[0m \u001b[43m    \u001b[49m\u001b[43mbatch_size\u001b[49m\u001b[38;5;241;43m=\u001b[39;49m\u001b[43mbatch_size\u001b[49m\u001b[43m,\u001b[49m\n\u001b[0;32m   2223\u001b[0m \u001b[43m    \u001b[49m\u001b[43msteps_per_epoch\u001b[49m\u001b[38;5;241;43m=\u001b[39;49m\u001b[43msteps\u001b[49m\u001b[43m,\u001b[49m\n\u001b[0;32m   2224\u001b[0m \u001b[43m    \u001b[49m\u001b[43minitial_epoch\u001b[49m\u001b[38;5;241;43m=\u001b[39;49m\u001b[38;5;241;43m0\u001b[39;49m\u001b[43m,\u001b[49m\n\u001b[0;32m   2225\u001b[0m \u001b[43m    \u001b[49m\u001b[43mepochs\u001b[49m\u001b[38;5;241;43m=\u001b[39;49m\u001b[38;5;241;43m1\u001b[39;49m\u001b[43m,\u001b[49m\n\u001b[0;32m   2226\u001b[0m \u001b[43m    \u001b[49m\u001b[43mmax_queue_size\u001b[49m\u001b[38;5;241;43m=\u001b[39;49m\u001b[43mmax_queue_size\u001b[49m\u001b[43m,\u001b[49m\n\u001b[0;32m   2227\u001b[0m \u001b[43m    \u001b[49m\u001b[43mworkers\u001b[49m\u001b[38;5;241;43m=\u001b[39;49m\u001b[43mworkers\u001b[49m\u001b[43m,\u001b[49m\n\u001b[0;32m   2228\u001b[0m \u001b[43m    \u001b[49m\u001b[43muse_multiprocessing\u001b[49m\u001b[38;5;241;43m=\u001b[39;49m\u001b[43muse_multiprocessing\u001b[49m\u001b[43m,\u001b[49m\n\u001b[0;32m   2229\u001b[0m \u001b[43m    \u001b[49m\u001b[43mmodel\u001b[49m\u001b[38;5;241;43m=\u001b[39;49m\u001b[38;5;28;43mself\u001b[39;49m\u001b[43m,\u001b[49m\n\u001b[0;32m   2230\u001b[0m \u001b[43m    \u001b[49m\u001b[43msteps_per_execution\u001b[49m\u001b[38;5;241;43m=\u001b[39;49m\u001b[38;5;28;43mself\u001b[39;49m\u001b[38;5;241;43m.\u001b[39;49m\u001b[43m_steps_per_execution\u001b[49m\u001b[43m,\u001b[49m\n\u001b[0;32m   2231\u001b[0m \u001b[43m\u001b[49m\u001b[43m)\u001b[49m\n\u001b[0;32m   2233\u001b[0m \u001b[38;5;66;03m# Container that configures and calls `tf.keras.Callback`s.\u001b[39;00m\n\u001b[0;32m   2234\u001b[0m \u001b[38;5;28;01mif\u001b[39;00m \u001b[38;5;129;01mnot\u001b[39;00m \u001b[38;5;28misinstance\u001b[39m(callbacks, callbacks_module\u001b[38;5;241m.\u001b[39mCallbackList):\n",
      "File \u001b[1;32mc:\\Users\\chiny\\anaconda3\\envs\\tf210gpu\\lib\\site-packages\\keras\\engine\\data_adapter.py:1582\u001b[0m, in \u001b[0;36mget_data_handler\u001b[1;34m(*args, **kwargs)\u001b[0m\n\u001b[0;32m   1580\u001b[0m \u001b[38;5;28;01mif\u001b[39;00m \u001b[38;5;28mgetattr\u001b[39m(kwargs[\u001b[38;5;124m\"\u001b[39m\u001b[38;5;124mmodel\u001b[39m\u001b[38;5;124m\"\u001b[39m], \u001b[38;5;124m\"\u001b[39m\u001b[38;5;124m_cluster_coordinator\u001b[39m\u001b[38;5;124m\"\u001b[39m, \u001b[38;5;28;01mNone\u001b[39;00m):\n\u001b[0;32m   1581\u001b[0m     \u001b[38;5;28;01mreturn\u001b[39;00m _ClusterCoordinatorDataHandler(\u001b[38;5;241m*\u001b[39margs, \u001b[38;5;241m*\u001b[39m\u001b[38;5;241m*\u001b[39mkwargs)\n\u001b[1;32m-> 1582\u001b[0m \u001b[38;5;28;01mreturn\u001b[39;00m DataHandler(\u001b[38;5;241m*\u001b[39margs, \u001b[38;5;241m*\u001b[39m\u001b[38;5;241m*\u001b[39mkwargs)\n",
      "File \u001b[1;32mc:\\Users\\chiny\\anaconda3\\envs\\tf210gpu\\lib\\site-packages\\keras\\engine\\data_adapter.py:1257\u001b[0m, in \u001b[0;36mDataHandler.__init__\u001b[1;34m(self, x, y, sample_weight, batch_size, steps_per_epoch, initial_epoch, epochs, shuffle, class_weight, max_queue_size, workers, use_multiprocessing, model, steps_per_execution, distribute)\u001b[0m\n\u001b[0;32m   1253\u001b[0m \u001b[38;5;66;03m# `steps_per_execution_value` is the cached initial value.\u001b[39;00m\n\u001b[0;32m   1254\u001b[0m \u001b[38;5;66;03m# `steps_per_execution` is mutable and may be changed by the DataAdapter\u001b[39;00m\n\u001b[0;32m   1255\u001b[0m \u001b[38;5;66;03m# to handle partial executions.\u001b[39;00m\n\u001b[0;32m   1256\u001b[0m \u001b[38;5;28;01mif\u001b[39;00m steps_per_execution \u001b[38;5;129;01mis\u001b[39;00m \u001b[38;5;28;01mNone\u001b[39;00m:\n\u001b[1;32m-> 1257\u001b[0m     \u001b[38;5;28mself\u001b[39m\u001b[38;5;241m.\u001b[39m_steps_per_execution \u001b[38;5;241m=\u001b[39m \u001b[43mtf\u001b[49m\u001b[38;5;241;43m.\u001b[39;49m\u001b[43mVariable\u001b[49m\u001b[43m(\u001b[49m\u001b[38;5;241;43m1\u001b[39;49m\u001b[43m)\u001b[49m\n\u001b[0;32m   1258\u001b[0m \u001b[38;5;28;01melse\u001b[39;00m:\n\u001b[0;32m   1259\u001b[0m     \u001b[38;5;28mself\u001b[39m\u001b[38;5;241m.\u001b[39m_steps_per_execution \u001b[38;5;241m=\u001b[39m steps_per_execution\n",
      "File \u001b[1;32mc:\\Users\\chiny\\anaconda3\\envs\\tf210gpu\\lib\\site-packages\\tensorflow\\python\\util\\traceback_utils.py:150\u001b[0m, in \u001b[0;36mfilter_traceback.<locals>.error_handler\u001b[1;34m(*args, **kwargs)\u001b[0m\n\u001b[0;32m    148\u001b[0m filtered_tb \u001b[38;5;241m=\u001b[39m \u001b[38;5;28;01mNone\u001b[39;00m\n\u001b[0;32m    149\u001b[0m \u001b[38;5;28;01mtry\u001b[39;00m:\n\u001b[1;32m--> 150\u001b[0m   \u001b[38;5;28;01mreturn\u001b[39;00m fn(\u001b[38;5;241m*\u001b[39margs, \u001b[38;5;241m*\u001b[39m\u001b[38;5;241m*\u001b[39mkwargs)\n\u001b[0;32m    151\u001b[0m \u001b[38;5;28;01mexcept\u001b[39;00m \u001b[38;5;167;01mException\u001b[39;00m \u001b[38;5;28;01mas\u001b[39;00m e:\n\u001b[0;32m    152\u001b[0m   filtered_tb \u001b[38;5;241m=\u001b[39m _process_traceback_frames(e\u001b[38;5;241m.\u001b[39m__traceback__)\n",
      "File \u001b[1;32mc:\\Users\\chiny\\anaconda3\\envs\\tf210gpu\\lib\\site-packages\\tensorflow\\python\\ops\\variables.py:266\u001b[0m, in \u001b[0;36mVariableMetaclass.__call__\u001b[1;34m(cls, *args, **kwargs)\u001b[0m\n\u001b[0;32m    264\u001b[0m   \u001b[38;5;28;01mreturn\u001b[39;00m \u001b[38;5;28mcls\u001b[39m\u001b[38;5;241m.\u001b[39m_variable_v1_call(\u001b[38;5;241m*\u001b[39margs, \u001b[38;5;241m*\u001b[39m\u001b[38;5;241m*\u001b[39mkwargs)\n\u001b[0;32m    265\u001b[0m \u001b[38;5;28;01melif\u001b[39;00m \u001b[38;5;28mcls\u001b[39m \u001b[38;5;129;01mis\u001b[39;00m Variable:\n\u001b[1;32m--> 266\u001b[0m   \u001b[38;5;28;01mreturn\u001b[39;00m \u001b[38;5;28mcls\u001b[39m\u001b[38;5;241m.\u001b[39m_variable_v2_call(\u001b[38;5;241m*\u001b[39margs, \u001b[38;5;241m*\u001b[39m\u001b[38;5;241m*\u001b[39mkwargs)\n\u001b[0;32m    267\u001b[0m \u001b[38;5;28;01melse\u001b[39;00m:\n\u001b[0;32m    268\u001b[0m   \u001b[38;5;28;01mreturn\u001b[39;00m \u001b[38;5;28msuper\u001b[39m(VariableMetaclass, \u001b[38;5;28mcls\u001b[39m)\u001b[38;5;241m.\u001b[39m\u001b[38;5;21m__call__\u001b[39m(\u001b[38;5;241m*\u001b[39margs, \u001b[38;5;241m*\u001b[39m\u001b[38;5;241m*\u001b[39mkwargs)\n",
      "File \u001b[1;32mc:\\Users\\chiny\\anaconda3\\envs\\tf210gpu\\lib\\site-packages\\tensorflow\\python\\ops\\variables.py:247\u001b[0m, in \u001b[0;36mVariableMetaclass._variable_v2_call\u001b[1;34m(cls, initial_value, trainable, validate_shape, caching_device, name, variable_def, dtype, import_scope, constraint, synchronization, aggregation, shape)\u001b[0m\n\u001b[0;32m    245\u001b[0m \u001b[38;5;28;01mif\u001b[39;00m aggregation \u001b[38;5;129;01mis\u001b[39;00m \u001b[38;5;28;01mNone\u001b[39;00m:\n\u001b[0;32m    246\u001b[0m   aggregation \u001b[38;5;241m=\u001b[39m VariableAggregation\u001b[38;5;241m.\u001b[39mNONE\n\u001b[1;32m--> 247\u001b[0m \u001b[38;5;28;01mreturn\u001b[39;00m \u001b[43mprevious_getter\u001b[49m\u001b[43m(\u001b[49m\n\u001b[0;32m    248\u001b[0m \u001b[43m    \u001b[49m\u001b[43minitial_value\u001b[49m\u001b[38;5;241;43m=\u001b[39;49m\u001b[43minitial_value\u001b[49m\u001b[43m,\u001b[49m\n\u001b[0;32m    249\u001b[0m \u001b[43m    \u001b[49m\u001b[43mtrainable\u001b[49m\u001b[38;5;241;43m=\u001b[39;49m\u001b[43mtrainable\u001b[49m\u001b[43m,\u001b[49m\n\u001b[0;32m    250\u001b[0m \u001b[43m    \u001b[49m\u001b[43mvalidate_shape\u001b[49m\u001b[38;5;241;43m=\u001b[39;49m\u001b[43mvalidate_shape\u001b[49m\u001b[43m,\u001b[49m\n\u001b[0;32m    251\u001b[0m \u001b[43m    \u001b[49m\u001b[43mcaching_device\u001b[49m\u001b[38;5;241;43m=\u001b[39;49m\u001b[43mcaching_device\u001b[49m\u001b[43m,\u001b[49m\n\u001b[0;32m    252\u001b[0m \u001b[43m    \u001b[49m\u001b[43mname\u001b[49m\u001b[38;5;241;43m=\u001b[39;49m\u001b[43mname\u001b[49m\u001b[43m,\u001b[49m\n\u001b[0;32m    253\u001b[0m \u001b[43m    \u001b[49m\u001b[43mvariable_def\u001b[49m\u001b[38;5;241;43m=\u001b[39;49m\u001b[43mvariable_def\u001b[49m\u001b[43m,\u001b[49m\n\u001b[0;32m    254\u001b[0m \u001b[43m    \u001b[49m\u001b[43mdtype\u001b[49m\u001b[38;5;241;43m=\u001b[39;49m\u001b[43mdtype\u001b[49m\u001b[43m,\u001b[49m\n\u001b[0;32m    255\u001b[0m \u001b[43m    \u001b[49m\u001b[43mimport_scope\u001b[49m\u001b[38;5;241;43m=\u001b[39;49m\u001b[43mimport_scope\u001b[49m\u001b[43m,\u001b[49m\n\u001b[0;32m    256\u001b[0m \u001b[43m    \u001b[49m\u001b[43mconstraint\u001b[49m\u001b[38;5;241;43m=\u001b[39;49m\u001b[43mconstraint\u001b[49m\u001b[43m,\u001b[49m\n\u001b[0;32m    257\u001b[0m \u001b[43m    \u001b[49m\u001b[43msynchronization\u001b[49m\u001b[38;5;241;43m=\u001b[39;49m\u001b[43msynchronization\u001b[49m\u001b[43m,\u001b[49m\n\u001b[0;32m    258\u001b[0m \u001b[43m    \u001b[49m\u001b[43maggregation\u001b[49m\u001b[38;5;241;43m=\u001b[39;49m\u001b[43maggregation\u001b[49m\u001b[43m,\u001b[49m\n\u001b[0;32m    259\u001b[0m \u001b[43m    \u001b[49m\u001b[43mshape\u001b[49m\u001b[38;5;241;43m=\u001b[39;49m\u001b[43mshape\u001b[49m\u001b[43m)\u001b[49m\n",
      "File \u001b[1;32mc:\\Users\\chiny\\anaconda3\\envs\\tf210gpu\\lib\\site-packages\\tensorflow\\python\\ops\\variables.py:64\u001b[0m, in \u001b[0;36m_make_getter.<locals>.getter\u001b[1;34m(**kwargs)\u001b[0m\n\u001b[0;32m     63\u001b[0m \u001b[38;5;28;01mdef\u001b[39;00m\u001b[38;5;250m \u001b[39m\u001b[38;5;21mgetter\u001b[39m(\u001b[38;5;241m*\u001b[39m\u001b[38;5;241m*\u001b[39mkwargs):\n\u001b[1;32m---> 64\u001b[0m   \u001b[38;5;28;01mreturn\u001b[39;00m captured_getter(captured_previous, \u001b[38;5;241m*\u001b[39m\u001b[38;5;241m*\u001b[39mkwargs)\n",
      "File \u001b[1;32mc:\\Users\\chiny\\anaconda3\\envs\\tf210gpu\\lib\\site-packages\\tensorflow\\python\\distribute\\distribute_lib.py:3607\u001b[0m, in \u001b[0;36m_DefaultDistributionContext.__init__.<locals>.creator\u001b[1;34m(next_creator, **kwargs)\u001b[0m\n\u001b[0;32m   3605\u001b[0m \u001b[38;5;28;01mdef\u001b[39;00m\u001b[38;5;250m \u001b[39m\u001b[38;5;21mcreator\u001b[39m(next_creator, \u001b[38;5;241m*\u001b[39m\u001b[38;5;241m*\u001b[39mkwargs):\n\u001b[0;32m   3606\u001b[0m   _require_strategy_scope_strategy(strategy)\n\u001b[1;32m-> 3607\u001b[0m   \u001b[38;5;28;01mreturn\u001b[39;00m next_creator(\u001b[38;5;241m*\u001b[39m\u001b[38;5;241m*\u001b[39mkwargs)\n",
      "File \u001b[1;32mc:\\Users\\chiny\\anaconda3\\envs\\tf210gpu\\lib\\site-packages\\tensorflow\\python\\ops\\variables.py:240\u001b[0m, in \u001b[0;36mVariableMetaclass._variable_v2_call.<locals>.<lambda>\u001b[1;34m(**kws)\u001b[0m\n\u001b[0;32m    226\u001b[0m \u001b[38;5;28;01mdef\u001b[39;00m\u001b[38;5;250m \u001b[39m\u001b[38;5;21m_variable_v2_call\u001b[39m(\u001b[38;5;28mcls\u001b[39m,\n\u001b[0;32m    227\u001b[0m                       initial_value\u001b[38;5;241m=\u001b[39m\u001b[38;5;28;01mNone\u001b[39;00m,\n\u001b[0;32m    228\u001b[0m                       trainable\u001b[38;5;241m=\u001b[39m\u001b[38;5;28;01mNone\u001b[39;00m,\n\u001b[1;32m   (...)\u001b[0m\n\u001b[0;32m    237\u001b[0m                       aggregation\u001b[38;5;241m=\u001b[39mVariableAggregation\u001b[38;5;241m.\u001b[39mNONE,\n\u001b[0;32m    238\u001b[0m                       shape\u001b[38;5;241m=\u001b[39m\u001b[38;5;28;01mNone\u001b[39;00m):\n\u001b[0;32m    239\u001b[0m \u001b[38;5;250m  \u001b[39m\u001b[38;5;124;03m\"\"\"Call on Variable class. Useful to force the signature.\"\"\"\u001b[39;00m\n\u001b[1;32m--> 240\u001b[0m   previous_getter \u001b[38;5;241m=\u001b[39m \u001b[38;5;28;01mlambda\u001b[39;00m \u001b[38;5;241m*\u001b[39m\u001b[38;5;241m*\u001b[39mkws: default_variable_creator_v2(\u001b[38;5;28;01mNone\u001b[39;00m, \u001b[38;5;241m*\u001b[39m\u001b[38;5;241m*\u001b[39mkws)\n\u001b[0;32m    241\u001b[0m   \u001b[38;5;28;01mfor\u001b[39;00m _, getter \u001b[38;5;129;01min\u001b[39;00m ops\u001b[38;5;241m.\u001b[39mget_default_graph()\u001b[38;5;241m.\u001b[39m_variable_creator_stack:  \u001b[38;5;66;03m# pylint: disable=protected-access\u001b[39;00m\n\u001b[0;32m    242\u001b[0m     previous_getter \u001b[38;5;241m=\u001b[39m _make_getter(getter, previous_getter)\n",
      "File \u001b[1;32mc:\\Users\\chiny\\anaconda3\\envs\\tf210gpu\\lib\\site-packages\\tensorflow\\python\\ops\\variable_scope.py:2755\u001b[0m, in \u001b[0;36mdefault_variable_creator_v2\u001b[1;34m(next_creator, **kwargs)\u001b[0m\n\u001b[0;32m   2752\u001b[0m aggregation \u001b[38;5;241m=\u001b[39m kwargs\u001b[38;5;241m.\u001b[39mget(\u001b[38;5;124m\"\u001b[39m\u001b[38;5;124maggregation\u001b[39m\u001b[38;5;124m\"\u001b[39m, \u001b[38;5;28;01mNone\u001b[39;00m)\n\u001b[0;32m   2753\u001b[0m shape \u001b[38;5;241m=\u001b[39m kwargs\u001b[38;5;241m.\u001b[39mget(\u001b[38;5;124m\"\u001b[39m\u001b[38;5;124mshape\u001b[39m\u001b[38;5;124m\"\u001b[39m, \u001b[38;5;28;01mNone\u001b[39;00m)\n\u001b[1;32m-> 2755\u001b[0m \u001b[38;5;28;01mreturn\u001b[39;00m \u001b[43mresource_variable_ops\u001b[49m\u001b[38;5;241;43m.\u001b[39;49m\u001b[43mResourceVariable\u001b[49m\u001b[43m(\u001b[49m\n\u001b[0;32m   2756\u001b[0m \u001b[43m    \u001b[49m\u001b[43minitial_value\u001b[49m\u001b[38;5;241;43m=\u001b[39;49m\u001b[43minitial_value\u001b[49m\u001b[43m,\u001b[49m\n\u001b[0;32m   2757\u001b[0m \u001b[43m    \u001b[49m\u001b[43mtrainable\u001b[49m\u001b[38;5;241;43m=\u001b[39;49m\u001b[43mtrainable\u001b[49m\u001b[43m,\u001b[49m\n\u001b[0;32m   2758\u001b[0m \u001b[43m    \u001b[49m\u001b[43mvalidate_shape\u001b[49m\u001b[38;5;241;43m=\u001b[39;49m\u001b[43mvalidate_shape\u001b[49m\u001b[43m,\u001b[49m\n\u001b[0;32m   2759\u001b[0m \u001b[43m    \u001b[49m\u001b[43mcaching_device\u001b[49m\u001b[38;5;241;43m=\u001b[39;49m\u001b[43mcaching_device\u001b[49m\u001b[43m,\u001b[49m\n\u001b[0;32m   2760\u001b[0m \u001b[43m    \u001b[49m\u001b[43mname\u001b[49m\u001b[38;5;241;43m=\u001b[39;49m\u001b[43mname\u001b[49m\u001b[43m,\u001b[49m\n\u001b[0;32m   2761\u001b[0m \u001b[43m    \u001b[49m\u001b[43mdtype\u001b[49m\u001b[38;5;241;43m=\u001b[39;49m\u001b[43mdtype\u001b[49m\u001b[43m,\u001b[49m\n\u001b[0;32m   2762\u001b[0m \u001b[43m    \u001b[49m\u001b[43mconstraint\u001b[49m\u001b[38;5;241;43m=\u001b[39;49m\u001b[43mconstraint\u001b[49m\u001b[43m,\u001b[49m\n\u001b[0;32m   2763\u001b[0m \u001b[43m    \u001b[49m\u001b[43mvariable_def\u001b[49m\u001b[38;5;241;43m=\u001b[39;49m\u001b[43mvariable_def\u001b[49m\u001b[43m,\u001b[49m\n\u001b[0;32m   2764\u001b[0m \u001b[43m    \u001b[49m\u001b[43mimport_scope\u001b[49m\u001b[38;5;241;43m=\u001b[39;49m\u001b[43mimport_scope\u001b[49m\u001b[43m,\u001b[49m\n\u001b[0;32m   2765\u001b[0m \u001b[43m    \u001b[49m\u001b[43mdistribute_strategy\u001b[49m\u001b[38;5;241;43m=\u001b[39;49m\u001b[43mdistribute_strategy\u001b[49m\u001b[43m,\u001b[49m\n\u001b[0;32m   2766\u001b[0m \u001b[43m    \u001b[49m\u001b[43msynchronization\u001b[49m\u001b[38;5;241;43m=\u001b[39;49m\u001b[43msynchronization\u001b[49m\u001b[43m,\u001b[49m\n\u001b[0;32m   2767\u001b[0m \u001b[43m    \u001b[49m\u001b[43maggregation\u001b[49m\u001b[38;5;241;43m=\u001b[39;49m\u001b[43maggregation\u001b[49m\u001b[43m,\u001b[49m\n\u001b[0;32m   2768\u001b[0m \u001b[43m    \u001b[49m\u001b[43mshape\u001b[49m\u001b[38;5;241;43m=\u001b[39;49m\u001b[43mshape\u001b[49m\u001b[43m)\u001b[49m\n",
      "File \u001b[1;32mc:\\Users\\chiny\\anaconda3\\envs\\tf210gpu\\lib\\site-packages\\tensorflow\\python\\util\\traceback_utils.py:150\u001b[0m, in \u001b[0;36mfilter_traceback.<locals>.error_handler\u001b[1;34m(*args, **kwargs)\u001b[0m\n\u001b[0;32m    148\u001b[0m filtered_tb \u001b[38;5;241m=\u001b[39m \u001b[38;5;28;01mNone\u001b[39;00m\n\u001b[0;32m    149\u001b[0m \u001b[38;5;28;01mtry\u001b[39;00m:\n\u001b[1;32m--> 150\u001b[0m   \u001b[38;5;28;01mreturn\u001b[39;00m fn(\u001b[38;5;241m*\u001b[39margs, \u001b[38;5;241m*\u001b[39m\u001b[38;5;241m*\u001b[39mkwargs)\n\u001b[0;32m    151\u001b[0m \u001b[38;5;28;01mexcept\u001b[39;00m \u001b[38;5;167;01mException\u001b[39;00m \u001b[38;5;28;01mas\u001b[39;00m e:\n\u001b[0;32m    152\u001b[0m   filtered_tb \u001b[38;5;241m=\u001b[39m _process_traceback_frames(e\u001b[38;5;241m.\u001b[39m__traceback__)\n",
      "File \u001b[1;32mc:\\Users\\chiny\\anaconda3\\envs\\tf210gpu\\lib\\site-packages\\tensorflow\\python\\ops\\variables.py:268\u001b[0m, in \u001b[0;36mVariableMetaclass.__call__\u001b[1;34m(cls, *args, **kwargs)\u001b[0m\n\u001b[0;32m    266\u001b[0m   \u001b[38;5;28;01mreturn\u001b[39;00m \u001b[38;5;28mcls\u001b[39m\u001b[38;5;241m.\u001b[39m_variable_v2_call(\u001b[38;5;241m*\u001b[39margs, \u001b[38;5;241m*\u001b[39m\u001b[38;5;241m*\u001b[39mkwargs)\n\u001b[0;32m    267\u001b[0m \u001b[38;5;28;01melse\u001b[39;00m:\n\u001b[1;32m--> 268\u001b[0m   \u001b[38;5;28;01mreturn\u001b[39;00m \u001b[38;5;28msuper\u001b[39m(VariableMetaclass, \u001b[38;5;28mcls\u001b[39m)\u001b[38;5;241m.\u001b[39m\u001b[38;5;21m__call__\u001b[39m(\u001b[38;5;241m*\u001b[39margs, \u001b[38;5;241m*\u001b[39m\u001b[38;5;241m*\u001b[39mkwargs)\n",
      "File \u001b[1;32mc:\\Users\\chiny\\anaconda3\\envs\\tf210gpu\\lib\\site-packages\\tensorflow\\python\\ops\\resource_variable_ops.py:1659\u001b[0m, in \u001b[0;36mResourceVariable.__init__\u001b[1;34m(self, initial_value, trainable, collections, validate_shape, caching_device, name, dtype, variable_def, import_scope, constraint, distribute_strategy, synchronization, aggregation, shape)\u001b[0m\n\u001b[0;32m   1656\u001b[0m   \u001b[38;5;28mself\u001b[39m\u001b[38;5;241m.\u001b[39m_init_from_proto(variable_def, import_scope\u001b[38;5;241m=\u001b[39mimport_scope,\n\u001b[0;32m   1657\u001b[0m                         validate_shape\u001b[38;5;241m=\u001b[39mvalidate_shape)\n\u001b[0;32m   1658\u001b[0m \u001b[38;5;28;01melse\u001b[39;00m:\n\u001b[1;32m-> 1659\u001b[0m   \u001b[38;5;28;43mself\u001b[39;49m\u001b[38;5;241;43m.\u001b[39;49m\u001b[43m_init_from_args\u001b[49m\u001b[43m(\u001b[49m\n\u001b[0;32m   1660\u001b[0m \u001b[43m      \u001b[49m\u001b[43minitial_value\u001b[49m\u001b[38;5;241;43m=\u001b[39;49m\u001b[43minitial_value\u001b[49m\u001b[43m,\u001b[49m\n\u001b[0;32m   1661\u001b[0m \u001b[43m      \u001b[49m\u001b[43mtrainable\u001b[49m\u001b[38;5;241;43m=\u001b[39;49m\u001b[43mtrainable\u001b[49m\u001b[43m,\u001b[49m\n\u001b[0;32m   1662\u001b[0m \u001b[43m      \u001b[49m\u001b[43mcollections\u001b[49m\u001b[38;5;241;43m=\u001b[39;49m\u001b[43mcollections\u001b[49m\u001b[43m,\u001b[49m\n\u001b[0;32m   1663\u001b[0m \u001b[43m      \u001b[49m\u001b[43mcaching_device\u001b[49m\u001b[38;5;241;43m=\u001b[39;49m\u001b[43mcaching_device\u001b[49m\u001b[43m,\u001b[49m\n\u001b[0;32m   1664\u001b[0m \u001b[43m      \u001b[49m\u001b[43mname\u001b[49m\u001b[38;5;241;43m=\u001b[39;49m\u001b[43mname\u001b[49m\u001b[43m,\u001b[49m\n\u001b[0;32m   1665\u001b[0m \u001b[43m      \u001b[49m\u001b[43mdtype\u001b[49m\u001b[38;5;241;43m=\u001b[39;49m\u001b[43mdtype\u001b[49m\u001b[43m,\u001b[49m\n\u001b[0;32m   1666\u001b[0m \u001b[43m      \u001b[49m\u001b[43mconstraint\u001b[49m\u001b[38;5;241;43m=\u001b[39;49m\u001b[43mconstraint\u001b[49m\u001b[43m,\u001b[49m\n\u001b[0;32m   1667\u001b[0m \u001b[43m      \u001b[49m\u001b[43msynchronization\u001b[49m\u001b[38;5;241;43m=\u001b[39;49m\u001b[43msynchronization\u001b[49m\u001b[43m,\u001b[49m\n\u001b[0;32m   1668\u001b[0m \u001b[43m      \u001b[49m\u001b[43maggregation\u001b[49m\u001b[38;5;241;43m=\u001b[39;49m\u001b[43maggregation\u001b[49m\u001b[43m,\u001b[49m\n\u001b[0;32m   1669\u001b[0m \u001b[43m      \u001b[49m\u001b[43mshape\u001b[49m\u001b[38;5;241;43m=\u001b[39;49m\u001b[43mshape\u001b[49m\u001b[43m,\u001b[49m\n\u001b[0;32m   1670\u001b[0m \u001b[43m      \u001b[49m\u001b[43mdistribute_strategy\u001b[49m\u001b[38;5;241;43m=\u001b[39;49m\u001b[43mdistribute_strategy\u001b[49m\u001b[43m,\u001b[49m\n\u001b[0;32m   1671\u001b[0m \u001b[43m      \u001b[49m\u001b[43mvalidate_shape\u001b[49m\u001b[38;5;241;43m=\u001b[39;49m\u001b[43mvalidate_shape\u001b[49m\u001b[43m,\u001b[49m\n\u001b[0;32m   1672\u001b[0m \u001b[43m  \u001b[49m\u001b[43m)\u001b[49m\n",
      "File \u001b[1;32mc:\\Users\\chiny\\anaconda3\\envs\\tf210gpu\\lib\\site-packages\\tensorflow\\python\\ops\\resource_variable_ops.py:1827\u001b[0m, in \u001b[0;36mResourceVariable._init_from_args\u001b[1;34m(self, initial_value, trainable, collections, caching_device, name, dtype, constraint, synchronization, aggregation, distribute_strategy, shape, validate_shape)\u001b[0m\n\u001b[0;32m   1825\u001b[0m   \u001b[38;5;28;01melse\u001b[39;00m:\n\u001b[0;32m   1826\u001b[0m     shape \u001b[38;5;241m=\u001b[39m initial_value\u001b[38;5;241m.\u001b[39mshape\n\u001b[1;32m-> 1827\u001b[0m   handle \u001b[38;5;241m=\u001b[39m \u001b[43meager_safe_variable_handle\u001b[49m\u001b[43m(\u001b[49m\n\u001b[0;32m   1828\u001b[0m \u001b[43m      \u001b[49m\u001b[43minitial_value\u001b[49m\u001b[38;5;241;43m=\u001b[39;49m\u001b[43minitial_value\u001b[49m\u001b[43m,\u001b[49m\n\u001b[0;32m   1829\u001b[0m \u001b[43m      \u001b[49m\u001b[43mshape\u001b[49m\u001b[38;5;241;43m=\u001b[39;49m\u001b[43mshape\u001b[49m\u001b[43m,\u001b[49m\n\u001b[0;32m   1830\u001b[0m \u001b[43m      \u001b[49m\u001b[43mshared_name\u001b[49m\u001b[38;5;241;43m=\u001b[39;49m\u001b[43mshared_name\u001b[49m\u001b[43m,\u001b[49m\n\u001b[0;32m   1831\u001b[0m \u001b[43m      \u001b[49m\u001b[43mname\u001b[49m\u001b[38;5;241;43m=\u001b[39;49m\u001b[43mname\u001b[49m\u001b[43m,\u001b[49m\n\u001b[0;32m   1832\u001b[0m \u001b[43m      \u001b[49m\u001b[43mgraph_mode\u001b[49m\u001b[38;5;241;43m=\u001b[39;49m\u001b[38;5;28;43mself\u001b[39;49m\u001b[38;5;241;43m.\u001b[39;49m\u001b[43m_in_graph_mode\u001b[49m\u001b[43m)\u001b[49m\n\u001b[0;32m   1833\u001b[0m   handle\u001b[38;5;241m.\u001b[39m_parent_trackable \u001b[38;5;241m=\u001b[39m weakref\u001b[38;5;241m.\u001b[39mref(\u001b[38;5;28mself\u001b[39m)\n\u001b[0;32m   1834\u001b[0m \u001b[38;5;66;03m# pylint: disable=protected-access\u001b[39;00m\n",
      "File \u001b[1;32mc:\\Users\\chiny\\anaconda3\\envs\\tf210gpu\\lib\\site-packages\\tensorflow\\python\\ops\\resource_variable_ops.py:237\u001b[0m, in \u001b[0;36meager_safe_variable_handle\u001b[1;34m(initial_value, shape, shared_name, name, graph_mode)\u001b[0m\n\u001b[0;32m    195\u001b[0m \u001b[38;5;250m\u001b[39m\u001b[38;5;124;03m\"\"\"Creates a variable handle with information to do shape inference.\u001b[39;00m\n\u001b[0;32m    196\u001b[0m \n\u001b[0;32m    197\u001b[0m \u001b[38;5;124;03mThe dtype is read from `initial_value` and stored in the returned\u001b[39;00m\n\u001b[1;32m   (...)\u001b[0m\n\u001b[0;32m    234\u001b[0m \u001b[38;5;124;03m  The handle, a `Tensor` of type `resource`.\u001b[39;00m\n\u001b[0;32m    235\u001b[0m \u001b[38;5;124;03m\"\"\"\u001b[39;00m\n\u001b[0;32m    236\u001b[0m dtype \u001b[38;5;241m=\u001b[39m initial_value\u001b[38;5;241m.\u001b[39mdtype\u001b[38;5;241m.\u001b[39mbase_dtype\n\u001b[1;32m--> 237\u001b[0m \u001b[38;5;28;01mreturn\u001b[39;00m \u001b[43m_variable_handle_from_shape_and_dtype\u001b[49m\u001b[43m(\u001b[49m\u001b[43mshape\u001b[49m\u001b[43m,\u001b[49m\u001b[43m \u001b[49m\u001b[43mdtype\u001b[49m\u001b[43m,\u001b[49m\u001b[43m \u001b[49m\u001b[43mshared_name\u001b[49m\u001b[43m,\u001b[49m\u001b[43m \u001b[49m\u001b[43mname\u001b[49m\u001b[43m,\u001b[49m\n\u001b[0;32m    238\u001b[0m \u001b[43m                                             \u001b[49m\u001b[43mgraph_mode\u001b[49m\u001b[43m,\u001b[49m\u001b[43m \u001b[49m\u001b[43minitial_value\u001b[49m\u001b[43m)\u001b[49m\n",
      "File \u001b[1;32mc:\\Users\\chiny\\anaconda3\\envs\\tf210gpu\\lib\\site-packages\\tensorflow\\python\\ops\\resource_variable_ops.py:161\u001b[0m, in \u001b[0;36m_variable_handle_from_shape_and_dtype\u001b[1;34m(shape, dtype, shared_name, name, graph_mode, initial_value)\u001b[0m\n\u001b[0;32m    156\u001b[0m     \u001b[38;5;28;01mraise\u001b[39;00m errors\u001b[38;5;241m.\u001b[39mInternalError(  \u001b[38;5;66;03m# pylint: disable=no-value-for-parameter\u001b[39;00m\n\u001b[0;32m    157\u001b[0m         \u001b[38;5;124m\"\u001b[39m\u001b[38;5;124mUsing an explicit shared_name is not allowed when executing eagerly.\u001b[39m\u001b[38;5;124m\"\u001b[39m\n\u001b[0;32m    158\u001b[0m     )\n\u001b[0;32m    159\u001b[0m   shared_name \u001b[38;5;241m=\u001b[39m context\u001b[38;5;241m.\u001b[39manonymous_name()\n\u001b[1;32m--> 161\u001b[0m handle \u001b[38;5;241m=\u001b[39m \u001b[43mgen_resource_variable_ops\u001b[49m\u001b[38;5;241;43m.\u001b[39;49m\u001b[43mvar_handle_op\u001b[49m\u001b[43m(\u001b[49m\n\u001b[0;32m    162\u001b[0m \u001b[43m    \u001b[49m\u001b[43mshape\u001b[49m\u001b[38;5;241;43m=\u001b[39;49m\u001b[43mshape\u001b[49m\u001b[43m,\u001b[49m\n\u001b[0;32m    163\u001b[0m \u001b[43m    \u001b[49m\u001b[43mdtype\u001b[49m\u001b[38;5;241;43m=\u001b[39;49m\u001b[43mdtype\u001b[49m\u001b[43m,\u001b[49m\n\u001b[0;32m    164\u001b[0m \u001b[43m    \u001b[49m\u001b[43mshared_name\u001b[49m\u001b[38;5;241;43m=\u001b[39;49m\u001b[43mshared_name\u001b[49m\u001b[43m,\u001b[49m\n\u001b[0;32m    165\u001b[0m \u001b[43m    \u001b[49m\u001b[43mname\u001b[49m\u001b[38;5;241;43m=\u001b[39;49m\u001b[43mname\u001b[49m\u001b[43m,\u001b[49m\n\u001b[0;32m    166\u001b[0m \u001b[43m    \u001b[49m\u001b[43mcontainer\u001b[49m\u001b[38;5;241;43m=\u001b[39;49m\u001b[43mcontainer\u001b[49m\u001b[43m)\u001b[49m\n\u001b[0;32m    167\u001b[0m \u001b[38;5;28;01mif\u001b[39;00m initial_value \u001b[38;5;129;01mis\u001b[39;00m \u001b[38;5;28;01mNone\u001b[39;00m:\n\u001b[0;32m    168\u001b[0m   initial_value \u001b[38;5;241m=\u001b[39m handle\n",
      "File \u001b[1;32mc:\\Users\\chiny\\anaconda3\\envs\\tf210gpu\\lib\\site-packages\\tensorflow\\python\\ops\\gen_resource_variable_ops.py:1226\u001b[0m, in \u001b[0;36mvar_handle_op\u001b[1;34m(dtype, shape, container, shared_name, allowed_devices, name)\u001b[0m\n\u001b[0;32m   1224\u001b[0m \u001b[38;5;28;01mif\u001b[39;00m tld\u001b[38;5;241m.\u001b[39mis_eager:\n\u001b[0;32m   1225\u001b[0m   \u001b[38;5;28;01mtry\u001b[39;00m:\n\u001b[1;32m-> 1226\u001b[0m     _result \u001b[38;5;241m=\u001b[39m \u001b[43mpywrap_tfe\u001b[49m\u001b[38;5;241;43m.\u001b[39;49m\u001b[43mTFE_Py_FastPathExecute\u001b[49m\u001b[43m(\u001b[49m\n\u001b[0;32m   1227\u001b[0m \u001b[43m      \u001b[49m\u001b[43m_ctx\u001b[49m\u001b[43m,\u001b[49m\u001b[43m \u001b[49m\u001b[38;5;124;43m\"\u001b[39;49m\u001b[38;5;124;43mVarHandleOp\u001b[39;49m\u001b[38;5;124;43m\"\u001b[39;49m\u001b[43m,\u001b[49m\u001b[43m \u001b[49m\u001b[43mname\u001b[49m\u001b[43m,\u001b[49m\u001b[43m \u001b[49m\u001b[38;5;124;43m\"\u001b[39;49m\u001b[38;5;124;43mcontainer\u001b[39;49m\u001b[38;5;124;43m\"\u001b[39;49m\u001b[43m,\u001b[49m\u001b[43m \u001b[49m\u001b[43mcontainer\u001b[49m\u001b[43m,\u001b[49m\u001b[43m \u001b[49m\u001b[38;5;124;43m\"\u001b[39;49m\u001b[38;5;124;43mshared_name\u001b[39;49m\u001b[38;5;124;43m\"\u001b[39;49m\u001b[43m,\u001b[49m\n\u001b[0;32m   1228\u001b[0m \u001b[43m      \u001b[49m\u001b[43mshared_name\u001b[49m\u001b[43m,\u001b[49m\u001b[43m \u001b[49m\u001b[38;5;124;43m\"\u001b[39;49m\u001b[38;5;124;43mdtype\u001b[39;49m\u001b[38;5;124;43m\"\u001b[39;49m\u001b[43m,\u001b[49m\u001b[43m \u001b[49m\u001b[43mdtype\u001b[49m\u001b[43m,\u001b[49m\u001b[43m \u001b[49m\u001b[38;5;124;43m\"\u001b[39;49m\u001b[38;5;124;43mshape\u001b[39;49m\u001b[38;5;124;43m\"\u001b[39;49m\u001b[43m,\u001b[49m\u001b[43m \u001b[49m\u001b[43mshape\u001b[49m\u001b[43m,\u001b[49m\u001b[43m \u001b[49m\u001b[38;5;124;43m\"\u001b[39;49m\u001b[38;5;124;43mallowed_devices\u001b[39;49m\u001b[38;5;124;43m\"\u001b[39;49m\u001b[43m,\u001b[49m\n\u001b[0;32m   1229\u001b[0m \u001b[43m      \u001b[49m\u001b[43mallowed_devices\u001b[49m\u001b[43m)\u001b[49m\n\u001b[0;32m   1230\u001b[0m     \u001b[38;5;28;01mreturn\u001b[39;00m _result\n\u001b[0;32m   1231\u001b[0m   \u001b[38;5;28;01mexcept\u001b[39;00m _core\u001b[38;5;241m.\u001b[39m_NotOkStatusException \u001b[38;5;28;01mas\u001b[39;00m e:\n",
      "\u001b[1;31mKeyboardInterrupt\u001b[0m: "
     ]
    }
   ],
   "source": [
    "for config in configs:\n",
    "    train_model(output_dir=OUTPUT_DIR, raw_data=raw_data, config=config)"
   ]
  },
  {
   "cell_type": "markdown",
   "id": "e748d092",
   "metadata": {},
   "source": [
    "## Finding the best model"
   ]
  },
  {
   "cell_type": "markdown",
   "id": "8733bef4",
   "metadata": {},
   "source": [
    "### Baseline:"
   ]
  },
  {
   "cell_type": "code",
   "execution_count": 43,
   "id": "e6521c35",
   "metadata": {},
   "outputs": [
    {
     "name": "stdout",
     "output_type": "stream",
     "text": [
      "results cached, skipping 782266732070bf9b38ae6b61acb445ab90bf37e1bfb008c05142655118d210e8\n",
      "results cached, skipping 23642808fe1e973da7d4debc13cd4c6db059b0c34addbd81bab4a512432a75f9\n",
      "results cached, skipping 8d191b40138c8af9c56e2c9cf23cccc885c2b38cae1fa10e3bbf25ba725747fd\n",
      "results cached, skipping b0acb1ad6379ac44dc48e7b71257b7f3c8a8d1df254a2a0668f9c6e146d346dc\n",
      "results cached, skipping 674e28daf3eb5b10aa917aa4db20b0ba9ff97bc53630f4e8ecbf3a61a70378d2\n",
      "results cached, skipping 873bfc820e3c8d25bdee31d6db0fc5599c58be05476b500d0b29551fa36e8f4c\n",
      "results cached, skipping 97f974b70002f3d907d36edd97a6428ac2051713db4e572674696cbb020ea340\n",
      "results cached, skipping a1d37f4983ff7ec89aa5d36e8b89d0871c523ea7379a4f3c1408207c1c9895c8\n",
      "results cached, skipping 04d2629b0b6a9d2345621b91b5ec509d1b2734033ceefa540479e88340e0cdd7\n",
      "results cached, skipping 522afcf3db34c52d20272e05157cd2b882ec9c1f5eb30e2c8f0ef59e51c3bcfc\n",
      "results cached, skipping eab38fa4e20840ad2707664fa8f7c690b30469bb526045eb8a309133341f527f\n",
      "results cached, skipping 9c1112feba535fc873778518a7aeeaf3f8b2426720879f60c5fff1d6755f35c9\n",
      "results cached, skipping 6bf7d17b0bc08ea043bf2785d559218b36a8af05416ca13aec513f968e322bd2\n",
      "results cached, skipping 91a28280592791c10add305719b51842d96c717d108f04dbeccc98b005ba31c7\n",
      "results cached, skipping 9998513770d963933a9fbca4420f4d8482954642e9203f197cdb7f577bad7d8c\n",
      "results cached, skipping 7122d4cf9db49ebcc42b17f1db6e47e118590b73ef7b740f5f64777d04871866\n",
      "results cached, skipping 77cc6a96861ef2a795474c79ebd4243263b8f2eb859499ead89bc783b4e20f9d\n",
      "results cached, skipping b4c85a10fdc96ce0c4df69a683aa5036173e96061cb90bce19ecc35d71234fa9\n",
      "results cached, skipping 1d9ba17ba53ddec69599ee323f75092822f1c0724126e4dfaa20b65fc8d261e2\n",
      "results cached, skipping 18369795fb3b9c787fbf8a98790370de582698dd08eb38123a8f6e0b9c3f845c\n"
     ]
    }
   ],
   "source": [
    "GRID_TYPE = 'baseline' #Choose \"baseline\", \"fm_only\", \"mbd_only\", \"ls_only\", \"all\"\n",
    "FILE_PATH = Path('BTCUSDT-lob.parq')\n",
    "OUTPUT_DIR = Path('output/baseline')\n",
    "OUTPUT_DIR.mkdir(exist_ok=True)\n",
    "\n",
    "raw_data = pd.read_parquet(FILE_PATH, engine='pyarrow')\n",
    "configs = generate_configs(GRID_TYPE, size=20, seed=1324)\n",
    "\n",
    "for config in configs:\n",
    "    train_model(output_dir=OUTPUT_DIR, raw_data=raw_data, config=config)"
   ]
  },
  {
   "cell_type": "code",
   "execution_count": null,
   "id": "ab6ac676",
   "metadata": {},
   "outputs": [],
   "source": [
    "export_model_outputs(output_root=OUTPUT_DIR, plot_lob_snapshot=plot_lob_snapshot)\n",
    "plot_all_model_metrics(output_root=OUTPUT_DIR)"
   ]
  },
  {
   "cell_type": "markdown",
   "id": "6f9608a5",
   "metadata": {},
   "source": [
    "### fm_only"
   ]
  },
  {
   "cell_type": "code",
   "execution_count": 44,
   "id": "0a421402",
   "metadata": {},
   "outputs": [
    {
     "name": "stdout",
     "output_type": "stream",
     "text": [
      "results cached, skipping 9833c1a47b0ccd239c9f26154fe69491523a822c61ffe329f99661807c8382dc\n",
      "results cached, skipping 17683ba6902ae563d678fc32dbc3430a464842109b4f4b74bab53c74a79b6336\n",
      "results cached, skipping 42771ae4de8cf5906a7144f83d8801cf1c86ee8e8b84ccf57af7c5b519799905\n",
      "results cached, skipping 96fb37450ef6b572802c8eceecb9104b9da6447609d6e7ed08c772d188bab442\n",
      "results cached, skipping 93d3df10599567331d4db94c1640d16c4d8390497d13bc8542cbf626be3635f4\n",
      "results cached, skipping 0728f000c320fe9df8084d38e56818879753419fb3b7e88eb9398bf3e598f884\n",
      "results cached, skipping 122a592c27c07f3982b54face802f01e8b5fdb4c02f84ae553a204adc0c5e0e6\n",
      "results cached, skipping 7dc96d8e907dac1a0ac2b57118690a9313216a04b8c736fc231f1a010df484ce\n",
      "results cached, skipping d3399ec976044057d512c65c7a688877aa6fa1930d9aaed6fa99271e120f6746\n",
      "results cached, skipping a7ae6b79d6b6eb57505b3ea8cad8ce30bb08b53bfa26befc980e9a578b8ee0a0\n",
      "results cached, skipping f4b80fd023e96acc8a066bf8c1b3569fabccdc5802bb973d0c9ad330bab0b993\n",
      "results cached, skipping 4ca1afc090dd6474a0ba8fcf7b422efaa70c683aac46ea5c01aa7b0914ef7755\n",
      "results cached, skipping ec56e5a90c11daa60aca64bd8b0c7e0e9ac941bb7d89c67037b3a37ab5e9cb17\n",
      "results cached, skipping 0c00f834e65025416dd3773c1303d1d99cab405757234944780960c762cb0023\n",
      "results cached, skipping 4b11302422bf8e8037969b8b8ada46f71e47a3bca6e39d56c82baeac6672b1eb\n",
      "results cached, skipping 30176d046ee06212722d19ef614a12d91d1858dd99ddc4b015855547e36277fb\n",
      "results cached, skipping d294a427c8823d5e78dace26a690a83a672d15a93a39a6526a2e08ec7d9d03d7\n",
      "results cached, skipping 47554892e5612452589281539386914b8d61d4c3215039b6c878c301737293e8\n",
      "results cached, skipping e7f3622a1c90abf92ed13348ea3df082d5cead331b4f8d7c2efddd891441f118\n",
      "results cached, skipping 3b6442ad1f753daec8ab74fdbfcfba69785660a2a5010182fe7f6761735ef4e4\n"
     ]
    }
   ],
   "source": [
    "GRID_TYPE = 'fm_only' #Choose \"baseline\", \"fm_only\", \"mbd_only\", \"ls_only\", \"all\"\n",
    "FILE_PATH = Path('BTCUSDT-lob.parq')\n",
    "OUTPUT_DIR = Path('output/fm_only')\n",
    "OUTPUT_DIR.mkdir(exist_ok=True)\n",
    "\n",
    "raw_data = pd.read_parquet(FILE_PATH, engine='pyarrow')\n",
    "configs = generate_configs(GRID_TYPE, size=20, seed=1324)\n",
    "\n",
    "for config in configs:\n",
    "    train_model(output_dir=OUTPUT_DIR, raw_data=raw_data, config=config)"
   ]
  },
  {
   "cell_type": "code",
   "execution_count": null,
   "id": "c94b5a85",
   "metadata": {},
   "outputs": [],
   "source": [
    "export_model_outputs(output_root=OUTPUT_DIR, plot_lob_snapshot=plot_lob_snapshot)\n",
    "plot_all_model_metrics(output_root=OUTPUT_DIR)"
   ]
  },
  {
   "cell_type": "markdown",
   "id": "ead2e02a",
   "metadata": {},
   "source": [
    "### mbd_only"
   ]
  },
  {
   "cell_type": "code",
   "execution_count": 45,
   "id": "73b72cf4",
   "metadata": {},
   "outputs": [
    {
     "name": "stdout",
     "output_type": "stream",
     "text": [
      "results cached, skipping 53cf051728a7959012f26df249a67fd8867a61eee064d4b9f8196437625057a8\n",
      "results cached, skipping ba18a2d63c6c28d537e76037ba5247ff88f0213acd0f7b6a79b8749bba2945da\n",
      "results cached, skipping d2d0ee2df0c9a11b4167c463ab64f2cd204a75c9e08a3049f4ecfb4fd3ab1171\n",
      "results cached, skipping 84b633bfd3b6db0ddbc290d866ef6184dc0a7796f8b60102df1d3b611b28afa4\n",
      "results cached, skipping 63b7a8c663d5701a1ceaa095421ee77536dd1869f6f45e29f1ba646e2faa11aa\n",
      "results cached, skipping 7051d002354243f9ee7392dde8c7bd7587d85d135043cb5b75c550248d8141e8\n",
      "results cached, skipping 93470e159db8232dc5e09e203355c20aa14116546a3a3247f0ca37911b8fa0d0\n",
      "results cached, skipping ca5bc7b845bafa968304e5d3a63b68dcfcf1ba56027c3e6e0f85d922aa185974\n",
      "results cached, skipping a94f89dbfdb60ce3f5f69efd78d78af3a5fb655451aa6200c867793b349efd9d\n",
      "results cached, skipping dfa741d924b54b11b286f733e23e094b8c807ee416ea698be7d9679e091abdd6\n",
      "results cached, skipping f2fed4f9d93e0471736f83038820036d86dec77fd814b34bbc8503eb6e66f740\n",
      "results cached, skipping ee4f513a21f7c4fbc21406ddd286f181439388988af3a0bdf40e64e644608bb8\n",
      "results cached, skipping caa19a67c57a4317d7dd4dff98aa2f6365e9423caa65eb59808146ed3ad38165\n",
      "results cached, skipping 27275322fa23af80362162734c6418c3dca4530eed598d62fe47146a65e31469\n",
      "results cached, skipping ac4ea1c1d31c7186657319667471c8d2679732f6f8f6f3f13c53dc629a50f893\n",
      "results cached, skipping 5cf97e3d19683d31d7f61c116c7aa5159384ba2de247bce24db1639855c8089d\n",
      "results cached, skipping 2038fcc93a8a0997299006d24cb9cae522bb6039b0dcf487c73c80ef3217781f\n",
      "results cached, skipping 6e54dd2d5c45cddb0727e2d90f8dff3cc1e91b063518cf562e1c65100d74714d\n",
      "results cached, skipping a78715e02abae27dd5a0cb2c71a43334e434d3ed59b2a77d05da04f5c8488b5a\n",
      "results cached, skipping 1f6354ba882783c743997fb9b6fb89bf8254d2ae3ba6d994187c7a70b93b60ae\n"
     ]
    }
   ],
   "source": [
    "GRID_TYPE = 'mbd_only' #Choose \"baseline\", \"fm_only\", \"mbd_only\", \"ls_only\", \"all\"\n",
    "FILE_PATH = Path('BTCUSDT-lob.parq')\n",
    "OUTPUT_DIR = Path('output/mbd_only')\n",
    "OUTPUT_DIR.mkdir(exist_ok=True)\n",
    "\n",
    "raw_data = pd.read_parquet(FILE_PATH, engine='pyarrow')\n",
    "configs = generate_configs(GRID_TYPE, size=20, seed=1324)\n",
    "\n",
    "for config in configs:\n",
    "    train_model(output_dir=OUTPUT_DIR, raw_data=raw_data, config=config)"
   ]
  },
  {
   "cell_type": "code",
   "execution_count": null,
   "id": "f3ec83ea",
   "metadata": {},
   "outputs": [],
   "source": [
    "export_model_outputs(output_root=OUTPUT_DIR, plot_lob_snapshot=plot_lob_snapshot)\n",
    "plot_all_model_metrics(output_root=OUTPUT_DIR)"
   ]
  },
  {
   "cell_type": "markdown",
   "id": "8ef2626f",
   "metadata": {},
   "source": [
    "### ls_only"
   ]
  },
  {
   "cell_type": "code",
   "execution_count": 46,
   "id": "6c15801f",
   "metadata": {},
   "outputs": [
    {
     "name": "stdout",
     "output_type": "stream",
     "text": [
      "results cached, skipping 5df3f79dc559a2341e86b8c1e5d0df8def5835400edccbd6b58db6f8d32d6e0c\n",
      "results cached, skipping b98b7563d6527434396204470cf01b1df6acb79c7a13d0095ec65cc8c5b758ca\n",
      "results cached, skipping b7b8af653ba8cfb1bce11dc384732cc93e8b2076caf7681cbbf878d145f32bae\n",
      "results cached, skipping e7bc4df88db9183aa842e9814cfc4b78a34be97c8d0be74a8439f3926bd4307f\n",
      "results cached, skipping 85f9ed577044b6c854d6be12bf6338d051a9c0ed764e0a787cb1ac61d49635b5\n",
      "results cached, skipping 376c5a336cb5a52e2d0d03403add2063db73f183e8ec37e20b7777bd5c61e940\n",
      "results cached, skipping 135648a51c041e913cd6337b71888b77db60fb5c01e1f518aa305dca14b9a3df\n",
      "results cached, skipping 5a453140f7914e8e47cbd596236bd54498c24e1742017cb8d413e68a7a17f518\n",
      "results cached, skipping 6c37abe80194e7d1f175515d44a712965c216ee01138c1f9c6aaf960a04995f0\n",
      "results cached, skipping effdf509f58b9c2c0d83230f9c6ffea3d8339f0611172a5fa5319acec92aa143\n",
      "results cached, skipping d045b91d945771d7b96b21c9481c92cfa670fdbadc2625834664ade83c6ba544\n",
      "results cached, skipping e5682a645b77331b1fbb34cabd3e62e2543ae93396404f2bcf82727a9dc80320\n",
      "results cached, skipping ecdb07088a11fbfd02fcc6ff122f81ec06b16357f93e46d602fc5603e78ba1dd\n",
      "results cached, skipping e08bdad9ea61f7f9743937e2c9df5c498d9e2331a8247fcc653668c0e0e7edab\n",
      "results cached, skipping b15f78a710583176f268327d2f45b1ab8b7a9ea813be374aa5f9ccbb0b762e05\n",
      "results cached, skipping 4bfc29a011318cef0b2285fde1453d527a04bf4b031874b4df88a66056d508ec\n",
      "results cached, skipping b92a10464171e7749dd948a6da62eacbe085b897f61eed342ac4b3d235f15f6b\n",
      "results cached, skipping 6571d13306f02d16b4028160c5c8437340207fec63e1139cd155767e77013f3e\n",
      "results cached, skipping c5b6284fc43f47cd52ec365c3a35747891e5f1a8495b6042fc0c5a9d1d3938dc\n",
      "results cached, skipping f5fb866a199b8d527988f4be3ce9df16baca0a3b756f00afa74102042554cd1d\n"
     ]
    }
   ],
   "source": [
    "GRID_TYPE = 'ls_only' #Choose \"baseline\", \"fm_only\", \"mbd_only\", \"ls_only\", \"all\"\n",
    "FILE_PATH = Path('BTCUSDT-lob.parq')\n",
    "OUTPUT_DIR = Path('output/ls_only')\n",
    "OUTPUT_DIR.mkdir(exist_ok=True)\n",
    "\n",
    "raw_data = pd.read_parquet(FILE_PATH, engine='pyarrow')\n",
    "configs = generate_configs(GRID_TYPE, size=20, seed=1324)\n",
    "\n",
    "for config in configs:\n",
    "    train_model(output_dir=OUTPUT_DIR, raw_data=raw_data, config=config)"
   ]
  },
  {
   "cell_type": "code",
   "execution_count": null,
   "id": "93aaaf06",
   "metadata": {},
   "outputs": [],
   "source": [
    "export_model_outputs(output_root=OUTPUT_DIR, plot_lob_snapshot=plot_lob_snapshot)\n",
    "plot_all_model_metrics(output_root=OUTPUT_DIR)"
   ]
  },
  {
   "cell_type": "markdown",
   "id": "2eeffb20",
   "metadata": {},
   "source": [
    "### All modifications <Optional> "
   ]
  },
  {
   "cell_type": "code",
   "execution_count": 49,
   "id": "b51f1361",
   "metadata": {},
   "outputs": [
    {
     "name": "stdout",
     "output_type": "stream",
     "text": [
      "results cached, skipping a0b6545791e353d0ed3cc1af59cf28930ae1cf7c0ef129517bb2faaa8e18832f\n",
      "results cached, skipping 8c93e40e1e0ae76d77bc66fa4d5cbbf38845515abd72e50e8c9df0275c4364c1\n",
      "results cached, skipping 7b77c328115122b476937e54b59d899761cfecb9e786ca7191545989c5994b5f\n",
      "results cached, skipping 31be9b6cc0383479b8acac5d2327b8a34dfbcda4a2230d6ff77c5a48905012f8\n",
      "results cached, skipping a8aa596e37e2f737c5d11c83ed330a472dab336ad730e3ec1b97ec85ddf26538\n",
      "results cached, skipping 843a6c06313abc3f19b1f2ddf66638ee2071ab2a6c66b9ca5d9179a703628f44\n",
      "results cached, skipping d1226fbed854405821825de848358a7374ec1de93a02bc3fa00a7e7c78e5fab5\n"
     ]
    },
    {
     "name": "stderr",
     "output_type": "stream",
     "text": [
      "100%|██████████| 64/64 [00:11<00:00,  5.49it/s]\n"
     ]
    },
    {
     "name": "stdout",
     "output_type": "stream",
     "text": [
      "Training completed in 0.20 minutes\n",
      "finished trainining c93f3050319e7259a7e4a6d045c5d667077f9b2392f4a050429915aaa1c82c09\n",
      "results cached, skipping fbaeced835153c98577173762807d2ad7b3999a5ed5f0e80237c59b1b5734e16\n",
      "results cached, skipping 1716510d4ff36a702349678198b77b3ca911138bbaa8f697d946b2c4241b7232\n",
      "results cached, skipping d4d8501ea76aed63962c2e41153aed45c8d6201223078fab167fa952aaf5f559\n",
      "results cached, skipping a5ad7a0eb24e878a15d505105d1460da7326b5e76178024356b17595f6122b0b\n",
      "results cached, skipping 9d5357ff8f13992327ab1b03ac9f1781c0953d035ee87a68387a3829c4b156a9\n",
      "results cached, skipping 052608318b21fd4c44f649431f558c5aff17d4e5475ad2d523a7894b5255c379\n",
      "results cached, skipping c1d0bc955c7fcd4c7d933ce33c29ce104e0a51ed1e5b3c2b82255ad1480ab97b\n",
      "results cached, skipping 0a12bfd0bac5261953048c7c4ed08d93856f1f3861ca01b606f06514ea9911cf\n",
      "results cached, skipping 428d7bd109dd83e29f999002738dd53fb13c38ff8d7947c07ebe0e111db91daf\n",
      "results cached, skipping bfc7fa621ae7f122a66fd4f7086820a7afcbd4e4b5a8665b493a6ac9c0c2674b\n",
      "results cached, skipping dcb97459c40c7f55c09d82d429a3842985852feffb0f4f5a5f8be046f934c9a7\n",
      "results cached, skipping e32c48909bff9571d2a17a9e379136386f25a825ba6e6a39b106b7e245a7f6a8\n"
     ]
    }
   ],
   "source": [
    "GRID_TYPE = 'all' #Choose \"baseline\", \"fm_only\", \"mbd_only\", \"ls_only\", \"all\"\n",
    "FILE_PATH = Path('BTCUSDT-lob.parq')\n",
    "OUTPUT_DIR = Path('output/all')\n",
    "OUTPUT_DIR.mkdir(exist_ok=True)\n",
    "\n",
    "raw_data = pd.read_parquet(FILE_PATH, engine='pyarrow')\n",
    "configs = generate_configs(GRID_TYPE, size=20, seed=1324)\n",
    "\n",
    "for config in configs:\n",
    "    train_model(output_dir=OUTPUT_DIR, raw_data=raw_data, config=config)"
   ]
  },
  {
   "cell_type": "code",
   "execution_count": 50,
   "id": "7faa5205",
   "metadata": {},
   "outputs": [
    {
     "name": "stderr",
     "output_type": "stream",
     "text": [
      "c:\\DSA5204\\DSA5204-Group-9\\lob\\lob_gan.py:112: UserWarning: All values for SymLogScale are below linthresh, making it effectively linear. You likely should lower the value of linthresh. \n",
      "  ax.axhline(0, color='k', alpha=0.2)\n"
     ]
    },
    {
     "name": "stdout",
     "output_type": "stream",
     "text": [
      "\n",
      "Processing 052608318b21fd4c44f649431f558c5aff17d4e5475ad2d523a7894b5255c379...\n",
      "Exported config\n",
      "Exported metrics\n",
      "Exported 65 LOB snapshots to images\n",
      "\n",
      "Processing 0a12bfd0bac5261953048c7c4ed08d93856f1f3861ca01b606f06514ea9911cf...\n",
      "Exported config\n",
      "Exported metrics\n"
     ]
    },
    {
     "name": "stderr",
     "output_type": "stream",
     "text": [
      "c:\\DSA5204\\DSA5204-Group-9\\lob\\lob_gan.py:112: UserWarning: All values for SymLogScale are below linthresh, making it effectively linear. You likely should lower the value of linthresh. \n",
      "  ax.axhline(0, color='k', alpha=0.2)\n"
     ]
    },
    {
     "name": "stdout",
     "output_type": "stream",
     "text": [
      "Exported 65 LOB snapshots to images\n",
      "\n",
      "Processing 1716510d4ff36a702349678198b77b3ca911138bbaa8f697d946b2c4241b7232...\n",
      "Exported config\n",
      "Exported metrics\n"
     ]
    },
    {
     "name": "stderr",
     "output_type": "stream",
     "text": [
      "c:\\DSA5204\\DSA5204-Group-9\\lob\\lob_gan.py:112: UserWarning: All values for SymLogScale are below linthresh, making it effectively linear. You likely should lower the value of linthresh. \n",
      "  ax.axhline(0, color='k', alpha=0.2)\n"
     ]
    },
    {
     "name": "stdout",
     "output_type": "stream",
     "text": [
      "Exported 65 LOB snapshots to images\n",
      "\n",
      "Processing 31be9b6cc0383479b8acac5d2327b8a34dfbcda4a2230d6ff77c5a48905012f8...\n",
      "Exported config\n",
      "Exported metrics\n"
     ]
    },
    {
     "name": "stderr",
     "output_type": "stream",
     "text": [
      "c:\\DSA5204\\DSA5204-Group-9\\lob\\lob_gan.py:112: UserWarning: All values for SymLogScale are below linthresh, making it effectively linear. You likely should lower the value of linthresh. \n",
      "  ax.axhline(0, color='k', alpha=0.2)\n"
     ]
    },
    {
     "name": "stdout",
     "output_type": "stream",
     "text": [
      "Exported 65 LOB snapshots to images\n",
      "\n",
      "Processing 428d7bd109dd83e29f999002738dd53fb13c38ff8d7947c07ebe0e111db91daf...\n",
      "Exported config\n",
      "Exported metrics\n"
     ]
    },
    {
     "name": "stderr",
     "output_type": "stream",
     "text": [
      "c:\\DSA5204\\DSA5204-Group-9\\lob\\lob_gan.py:112: UserWarning: All values for SymLogScale are below linthresh, making it effectively linear. You likely should lower the value of linthresh. \n",
      "  ax.axhline(0, color='k', alpha=0.2)\n"
     ]
    },
    {
     "name": "stdout",
     "output_type": "stream",
     "text": [
      "Exported 65 LOB snapshots to images\n",
      "\n",
      "Processing 7b77c328115122b476937e54b59d899761cfecb9e786ca7191545989c5994b5f...\n",
      "Exported config\n",
      "Exported metrics\n"
     ]
    },
    {
     "name": "stderr",
     "output_type": "stream",
     "text": [
      "c:\\DSA5204\\DSA5204-Group-9\\lob\\lob_gan.py:112: UserWarning: All values for SymLogScale are below linthresh, making it effectively linear. You likely should lower the value of linthresh. \n",
      "  ax.axhline(0, color='k', alpha=0.2)\n"
     ]
    },
    {
     "name": "stdout",
     "output_type": "stream",
     "text": [
      "Exported 65 LOB snapshots to images\n",
      "\n",
      "Processing 843a6c06313abc3f19b1f2ddf66638ee2071ab2a6c66b9ca5d9179a703628f44...\n",
      "Exported config\n",
      "Exported metrics\n"
     ]
    },
    {
     "name": "stderr",
     "output_type": "stream",
     "text": [
      "c:\\DSA5204\\DSA5204-Group-9\\lob\\lob_gan.py:112: UserWarning: All values for SymLogScale are below linthresh, making it effectively linear. You likely should lower the value of linthresh. \n",
      "  ax.axhline(0, color='k', alpha=0.2)\n"
     ]
    },
    {
     "name": "stdout",
     "output_type": "stream",
     "text": [
      "Exported 65 LOB snapshots to images\n",
      "\n",
      "Processing 8c93e40e1e0ae76d77bc66fa4d5cbbf38845515abd72e50e8c9df0275c4364c1...\n",
      "Exported config\n",
      "Exported metrics\n"
     ]
    },
    {
     "name": "stderr",
     "output_type": "stream",
     "text": [
      "c:\\DSA5204\\DSA5204-Group-9\\lob\\lob_gan.py:112: UserWarning: All values for SymLogScale are below linthresh, making it effectively linear. You likely should lower the value of linthresh. \n",
      "  ax.axhline(0, color='k', alpha=0.2)\n"
     ]
    },
    {
     "name": "stdout",
     "output_type": "stream",
     "text": [
      "Exported 65 LOB snapshots to images\n",
      "\n",
      "Processing 93f3050319e7259a7e4a6d045c5d667077f9b2392f4a050429915aaa1c82c09...\n",
      "Exported config\n",
      "Exported metrics\n"
     ]
    },
    {
     "name": "stderr",
     "output_type": "stream",
     "text": [
      "c:\\DSA5204\\DSA5204-Group-9\\lob\\lob_gan.py:112: UserWarning: All values for SymLogScale are below linthresh, making it effectively linear. You likely should lower the value of linthresh. \n",
      "  ax.axhline(0, color='k', alpha=0.2)\n"
     ]
    },
    {
     "name": "stdout",
     "output_type": "stream",
     "text": [
      "Exported 65 LOB snapshots to images\n",
      "\n",
      "Processing 9d5357ff8f13992327ab1b03ac9f1781c0953d035ee87a68387a3829c4b156a9...\n",
      "Exported config\n",
      "Exported metrics\n"
     ]
    },
    {
     "name": "stderr",
     "output_type": "stream",
     "text": [
      "c:\\DSA5204\\DSA5204-Group-9\\lob\\lob_gan.py:112: UserWarning: All values for SymLogScale are below linthresh, making it effectively linear. You likely should lower the value of linthresh. \n",
      "  ax.axhline(0, color='k', alpha=0.2)\n"
     ]
    },
    {
     "name": "stdout",
     "output_type": "stream",
     "text": [
      "Exported 65 LOB snapshots to images\n",
      "\n",
      "Processing a0b6545791e353d0ed3cc1af59cf28930ae1cf7c0ef129517bb2faaa8e18832f...\n",
      "Exported config\n",
      "Exported metrics\n"
     ]
    },
    {
     "name": "stderr",
     "output_type": "stream",
     "text": [
      "c:\\DSA5204\\DSA5204-Group-9\\lob\\lob_gan.py:112: UserWarning: All values for SymLogScale are below linthresh, making it effectively linear. You likely should lower the value of linthresh. \n",
      "  ax.axhline(0, color='k', alpha=0.2)\n"
     ]
    },
    {
     "name": "stdout",
     "output_type": "stream",
     "text": [
      "Exported 65 LOB snapshots to images\n",
      "\n",
      "Processing a5ad7a0eb24e878a15d505105d1460da7326b5e76178024356b17595f6122b0b...\n",
      "Exported config\n",
      "Exported metrics\n"
     ]
    },
    {
     "name": "stderr",
     "output_type": "stream",
     "text": [
      "c:\\DSA5204\\DSA5204-Group-9\\lob\\lob_gan.py:112: UserWarning: All values for SymLogScale are below linthresh, making it effectively linear. You likely should lower the value of linthresh. \n",
      "  ax.axhline(0, color='k', alpha=0.2)\n"
     ]
    },
    {
     "name": "stdout",
     "output_type": "stream",
     "text": [
      "Exported 65 LOB snapshots to images\n",
      "\n",
      "Processing a8aa596e37e2f737c5d11c83ed330a472dab336ad730e3ec1b97ec85ddf26538...\n",
      "Exported config\n",
      "Exported metrics\n"
     ]
    },
    {
     "name": "stderr",
     "output_type": "stream",
     "text": [
      "c:\\DSA5204\\DSA5204-Group-9\\lob\\lob_gan.py:112: UserWarning: All values for SymLogScale are below linthresh, making it effectively linear. You likely should lower the value of linthresh. \n",
      "  ax.axhline(0, color='k', alpha=0.2)\n"
     ]
    },
    {
     "name": "stdout",
     "output_type": "stream",
     "text": [
      "Exported 65 LOB snapshots to images\n",
      "\n",
      "Processing bfc7fa621ae7f122a66fd4f7086820a7afcbd4e4b5a8665b493a6ac9c0c2674b...\n",
      "Exported config\n",
      "Exported metrics\n"
     ]
    },
    {
     "name": "stderr",
     "output_type": "stream",
     "text": [
      "c:\\DSA5204\\DSA5204-Group-9\\lob\\lob_gan.py:112: UserWarning: All values for SymLogScale are below linthresh, making it effectively linear. You likely should lower the value of linthresh. \n",
      "  ax.axhline(0, color='k', alpha=0.2)\n"
     ]
    },
    {
     "name": "stdout",
     "output_type": "stream",
     "text": [
      "Exported 65 LOB snapshots to images\n",
      "\n",
      "Processing c1d0bc955c7fcd4c7d933ce33c29ce104e0a51ed1e5b3c2b82255ad1480ab97b...\n",
      "Exported config\n",
      "Exported metrics\n"
     ]
    },
    {
     "name": "stderr",
     "output_type": "stream",
     "text": [
      "c:\\DSA5204\\DSA5204-Group-9\\lob\\lob_gan.py:112: UserWarning: All values for SymLogScale are below linthresh, making it effectively linear. You likely should lower the value of linthresh. \n",
      "  ax.axhline(0, color='k', alpha=0.2)\n"
     ]
    },
    {
     "name": "stdout",
     "output_type": "stream",
     "text": [
      "Exported 65 LOB snapshots to images\n",
      "\n",
      "Processing c93f3050319e7259a7e4a6d045c5d667077f9b2392f4a050429915aaa1c82c09...\n",
      "Exported config\n",
      "Exported metrics\n"
     ]
    },
    {
     "name": "stderr",
     "output_type": "stream",
     "text": [
      "c:\\DSA5204\\DSA5204-Group-9\\lob\\lob_gan.py:112: UserWarning: All values for SymLogScale are below linthresh, making it effectively linear. You likely should lower the value of linthresh. \n",
      "  ax.axhline(0, color='k', alpha=0.2)\n"
     ]
    },
    {
     "name": "stdout",
     "output_type": "stream",
     "text": [
      "Exported 65 LOB snapshots to images\n",
      "\n",
      "Processing d1226fbed854405821825de848358a7374ec1de93a02bc3fa00a7e7c78e5fab5...\n",
      "Exported config\n",
      "Exported metrics\n"
     ]
    },
    {
     "name": "stderr",
     "output_type": "stream",
     "text": [
      "c:\\DSA5204\\DSA5204-Group-9\\lob\\lob_gan.py:112: UserWarning: All values for SymLogScale are below linthresh, making it effectively linear. You likely should lower the value of linthresh. \n",
      "  ax.axhline(0, color='k', alpha=0.2)\n"
     ]
    },
    {
     "name": "stdout",
     "output_type": "stream",
     "text": [
      "Exported 65 LOB snapshots to images\n",
      "\n",
      "Processing d4d8501ea76aed63962c2e41153aed45c8d6201223078fab167fa952aaf5f559...\n",
      "Exported config\n",
      "Exported metrics\n"
     ]
    },
    {
     "name": "stderr",
     "output_type": "stream",
     "text": [
      "c:\\DSA5204\\DSA5204-Group-9\\lob\\lob_gan.py:112: UserWarning: All values for SymLogScale are below linthresh, making it effectively linear. You likely should lower the value of linthresh. \n",
      "  ax.axhline(0, color='k', alpha=0.2)\n"
     ]
    },
    {
     "name": "stdout",
     "output_type": "stream",
     "text": [
      "Exported 65 LOB snapshots to images\n",
      "\n",
      "Processing dcb97459c40c7f55c09d82d429a3842985852feffb0f4f5a5f8be046f934c9a7...\n",
      "Exported config\n",
      "Exported metrics\n"
     ]
    },
    {
     "name": "stderr",
     "output_type": "stream",
     "text": [
      "c:\\DSA5204\\DSA5204-Group-9\\lob\\lob_gan.py:112: UserWarning: All values for SymLogScale are below linthresh, making it effectively linear. You likely should lower the value of linthresh. \n",
      "  ax.axhline(0, color='k', alpha=0.2)\n"
     ]
    },
    {
     "name": "stdout",
     "output_type": "stream",
     "text": [
      "Exported 65 LOB snapshots to images\n",
      "\n",
      "Processing e32c48909bff9571d2a17a9e379136386f25a825ba6e6a39b106b7e245a7f6a8...\n",
      "Exported config\n",
      "Exported metrics\n"
     ]
    },
    {
     "name": "stderr",
     "output_type": "stream",
     "text": [
      "c:\\DSA5204\\DSA5204-Group-9\\lob\\lob_gan.py:112: UserWarning: All values for SymLogScale are below linthresh, making it effectively linear. You likely should lower the value of linthresh. \n",
      "  ax.axhline(0, color='k', alpha=0.2)\n"
     ]
    },
    {
     "name": "stdout",
     "output_type": "stream",
     "text": [
      "Exported 65 LOB snapshots to images\n",
      "\n",
      "Processing fbaeced835153c98577173762807d2ad7b3999a5ed5f0e80237c59b1b5734e16...\n",
      "Exported config\n",
      "Exported metrics\n"
     ]
    },
    {
     "name": "stderr",
     "output_type": "stream",
     "text": [
      "c:\\DSA5204\\DSA5204-Group-9\\lob\\lob_gan.py:112: UserWarning: All values for SymLogScale are below linthresh, making it effectively linear. You likely should lower the value of linthresh. \n",
      "  ax.axhline(0, color='k', alpha=0.2)\n"
     ]
    },
    {
     "name": "stdout",
     "output_type": "stream",
     "text": [
      "Exported 65 LOB snapshots to images\n",
      "\n",
      "Processing image_Old...\n",
      "Skipping: Missing config.json or metrics.parq\n",
      "\n",
      "All model outputs processed.\n"
     ]
    }
   ],
   "source": [
    "export_model_outputs(output_root=OUTPUT_DIR, plot_lob_snapshot=plot_lob_snapshot)\n",
    "plot_all_model_metrics(output_root=OUTPUT_DIR)"
   ]
  },
  {
   "cell_type": "markdown",
   "id": "2282c2e9",
   "metadata": {},
   "source": [
    "### Best FM vs All turn on"
   ]
  },
  {
   "cell_type": "code",
   "execution_count": 59,
   "id": "f2c89f58",
   "metadata": {},
   "outputs": [
    {
     "name": "stderr",
     "output_type": "stream",
     "text": [
      " 70%|███████   | 45/64 [00:07<00:03,  6.22it/s]\n"
     ]
    },
    {
     "ename": "KeyboardInterrupt",
     "evalue": "",
     "output_type": "error",
     "traceback": [
      "\u001b[1;31m---------------------------------------------------------------------------\u001b[0m",
      "\u001b[1;31mKeyboardInterrupt\u001b[0m                         Traceback (most recent call last)",
      "Cell \u001b[1;32mIn[59], line 37\u001b[0m\n\u001b[0;32m     34\u001b[0m config \u001b[38;5;241m=\u001b[39m Config(\u001b[38;5;241m*\u001b[39m\u001b[38;5;241m*\u001b[39mconfig_dict)\n\u001b[0;32m     35\u001b[0m key_output_dir \u001b[38;5;241m=\u001b[39m OUTPUT_DIR \u001b[38;5;241m/\u001b[39m config\u001b[38;5;241m.\u001b[39mget_key()\n\u001b[1;32m---> 37\u001b[0m \u001b[43mtrain_model\u001b[49m\u001b[43m(\u001b[49m\u001b[43moutput_dir\u001b[49m\u001b[38;5;241;43m=\u001b[39;49m\u001b[43mOUTPUT_DIR\u001b[49m\u001b[43m,\u001b[49m\u001b[43m \u001b[49m\u001b[43mraw_data\u001b[49m\u001b[38;5;241;43m=\u001b[39;49m\u001b[43mraw_data\u001b[49m\u001b[43m,\u001b[49m\u001b[43m \u001b[49m\u001b[43mconfig\u001b[49m\u001b[38;5;241;43m=\u001b[39;49m\u001b[43mconfig\u001b[49m\u001b[43m)\u001b[49m\n",
      "File \u001b[1;32mc:\\DSA5204\\DSA5204-Group-9\\lob\\param_search.py:74\u001b[0m, in \u001b[0;36mtrain_model\u001b[1;34m(output_dir, raw_data, config)\u001b[0m\n\u001b[0;32m     72\u001b[0m     f\u001b[38;5;241m.\u001b[39mwrite(config\u001b[38;5;241m.\u001b[39mto_json(indent\u001b[38;5;241m=\u001b[39m\u001b[38;5;241m2\u001b[39m))\n\u001b[0;32m     73\u001b[0m gan \u001b[38;5;241m=\u001b[39m ImprovedGAN(raw_data, config)\n\u001b[1;32m---> 74\u001b[0m outputs \u001b[38;5;241m=\u001b[39m \u001b[43mgan\u001b[49m\u001b[38;5;241;43m.\u001b[39;49m\u001b[43mtrain\u001b[49m\u001b[43m(\u001b[49m\u001b[43m)\u001b[49m\n\u001b[0;32m     75\u001b[0m outputs\u001b[38;5;241m.\u001b[39mdump(model_dir)\n\u001b[0;32m     76\u001b[0m \u001b[38;5;28mprint\u001b[39m(\u001b[38;5;124mf\u001b[39m\u001b[38;5;124m'\u001b[39m\u001b[38;5;124mfinished trainining \u001b[39m\u001b[38;5;132;01m{\u001b[39;00mkey\u001b[38;5;132;01m}\u001b[39;00m\u001b[38;5;124m'\u001b[39m)\n",
      "File \u001b[1;32mc:\\DSA5204\\DSA5204-Group-9\\lob\\lob_gan.py:448\u001b[0m, in \u001b[0;36mImprovedGAN.train\u001b[1;34m(self)\u001b[0m\n\u001b[0;32m    445\u001b[0m     \u001b[38;5;66;03m# insert historical averaging here\u001b[39;00m\n\u001b[0;32m    446\u001b[0m     epoch_metrics_list\u001b[38;5;241m.\u001b[39mappend(metrics)\n\u001b[1;32m--> 448\u001b[0m fake_batch \u001b[38;5;241m=\u001b[39m \u001b[38;5;28;43mself\u001b[39;49m\u001b[38;5;241;43m.\u001b[39;49m\u001b[43mgenerator\u001b[49m\u001b[38;5;241;43m.\u001b[39;49m\u001b[43mpredict\u001b[49m\u001b[43m(\u001b[49m\n\u001b[0;32m    449\u001b[0m \u001b[43m    \u001b[49m\u001b[38;5;28;43mself\u001b[39;49m\u001b[38;5;241;43m.\u001b[39;49m\u001b[43mfixed_noise\u001b[49m\u001b[43m,\u001b[49m\u001b[43m \u001b[49m\u001b[43mverbose\u001b[49m\u001b[38;5;241;43m=\u001b[39;49m\u001b[38;5;28;43;01mFalse\u001b[39;49;00m\u001b[43m)\u001b[49m\n\u001b[0;32m    450\u001b[0m lobs_list\u001b[38;5;241m.\u001b[39mappend(fake_batch)\n\u001b[0;32m    451\u001b[0m sample_stats \u001b[38;5;241m=\u001b[39m calculate_sample_stats(fake_batch)\n",
      "File \u001b[1;32mc:\\Users\\chiny\\anaconda3\\envs\\tf210gpu\\lib\\site-packages\\keras\\utils\\traceback_utils.py:65\u001b[0m, in \u001b[0;36mfilter_traceback.<locals>.error_handler\u001b[1;34m(*args, **kwargs)\u001b[0m\n\u001b[0;32m     63\u001b[0m filtered_tb \u001b[38;5;241m=\u001b[39m \u001b[38;5;28;01mNone\u001b[39;00m\n\u001b[0;32m     64\u001b[0m \u001b[38;5;28;01mtry\u001b[39;00m:\n\u001b[1;32m---> 65\u001b[0m     \u001b[38;5;28;01mreturn\u001b[39;00m fn(\u001b[38;5;241m*\u001b[39margs, \u001b[38;5;241m*\u001b[39m\u001b[38;5;241m*\u001b[39mkwargs)\n\u001b[0;32m     66\u001b[0m \u001b[38;5;28;01mexcept\u001b[39;00m \u001b[38;5;167;01mException\u001b[39;00m \u001b[38;5;28;01mas\u001b[39;00m e:\n\u001b[0;32m     67\u001b[0m     filtered_tb \u001b[38;5;241m=\u001b[39m _process_traceback_frames(e\u001b[38;5;241m.\u001b[39m__traceback__)\n",
      "File \u001b[1;32mc:\\Users\\chiny\\anaconda3\\envs\\tf210gpu\\lib\\site-packages\\keras\\engine\\training.py:2253\u001b[0m, in \u001b[0;36mModel.predict\u001b[1;34m(self, x, batch_size, verbose, steps, callbacks, max_queue_size, workers, use_multiprocessing)\u001b[0m\n\u001b[0;32m   2251\u001b[0m \u001b[38;5;28;01mfor\u001b[39;00m step \u001b[38;5;129;01min\u001b[39;00m data_handler\u001b[38;5;241m.\u001b[39msteps():\n\u001b[0;32m   2252\u001b[0m     callbacks\u001b[38;5;241m.\u001b[39mon_predict_batch_begin(step)\n\u001b[1;32m-> 2253\u001b[0m     tmp_batch_outputs \u001b[38;5;241m=\u001b[39m \u001b[38;5;28;43mself\u001b[39;49m\u001b[38;5;241;43m.\u001b[39;49m\u001b[43mpredict_function\u001b[49m\u001b[43m(\u001b[49m\u001b[43miterator\u001b[49m\u001b[43m)\u001b[49m\n\u001b[0;32m   2254\u001b[0m     \u001b[38;5;28;01mif\u001b[39;00m data_handler\u001b[38;5;241m.\u001b[39mshould_sync:\n\u001b[0;32m   2255\u001b[0m         context\u001b[38;5;241m.\u001b[39masync_wait()\n",
      "File \u001b[1;32mc:\\Users\\chiny\\anaconda3\\envs\\tf210gpu\\lib\\site-packages\\tensorflow\\python\\util\\traceback_utils.py:150\u001b[0m, in \u001b[0;36mfilter_traceback.<locals>.error_handler\u001b[1;34m(*args, **kwargs)\u001b[0m\n\u001b[0;32m    148\u001b[0m filtered_tb \u001b[38;5;241m=\u001b[39m \u001b[38;5;28;01mNone\u001b[39;00m\n\u001b[0;32m    149\u001b[0m \u001b[38;5;28;01mtry\u001b[39;00m:\n\u001b[1;32m--> 150\u001b[0m   \u001b[38;5;28;01mreturn\u001b[39;00m fn(\u001b[38;5;241m*\u001b[39margs, \u001b[38;5;241m*\u001b[39m\u001b[38;5;241m*\u001b[39mkwargs)\n\u001b[0;32m    151\u001b[0m \u001b[38;5;28;01mexcept\u001b[39;00m \u001b[38;5;167;01mException\u001b[39;00m \u001b[38;5;28;01mas\u001b[39;00m e:\n\u001b[0;32m    152\u001b[0m   filtered_tb \u001b[38;5;241m=\u001b[39m _process_traceback_frames(e\u001b[38;5;241m.\u001b[39m__traceback__)\n",
      "File \u001b[1;32mc:\\Users\\chiny\\anaconda3\\envs\\tf210gpu\\lib\\site-packages\\tensorflow\\python\\eager\\def_function.py:915\u001b[0m, in \u001b[0;36mFunction.__call__\u001b[1;34m(self, *args, **kwds)\u001b[0m\n\u001b[0;32m    912\u001b[0m compiler \u001b[38;5;241m=\u001b[39m \u001b[38;5;124m\"\u001b[39m\u001b[38;5;124mxla\u001b[39m\u001b[38;5;124m\"\u001b[39m \u001b[38;5;28;01mif\u001b[39;00m \u001b[38;5;28mself\u001b[39m\u001b[38;5;241m.\u001b[39m_jit_compile \u001b[38;5;28;01melse\u001b[39;00m \u001b[38;5;124m\"\u001b[39m\u001b[38;5;124mnonXla\u001b[39m\u001b[38;5;124m\"\u001b[39m\n\u001b[0;32m    914\u001b[0m \u001b[38;5;28;01mwith\u001b[39;00m OptionalXlaContext(\u001b[38;5;28mself\u001b[39m\u001b[38;5;241m.\u001b[39m_jit_compile):\n\u001b[1;32m--> 915\u001b[0m   result \u001b[38;5;241m=\u001b[39m \u001b[38;5;28mself\u001b[39m\u001b[38;5;241m.\u001b[39m_call(\u001b[38;5;241m*\u001b[39margs, \u001b[38;5;241m*\u001b[39m\u001b[38;5;241m*\u001b[39mkwds)\n\u001b[0;32m    917\u001b[0m new_tracing_count \u001b[38;5;241m=\u001b[39m \u001b[38;5;28mself\u001b[39m\u001b[38;5;241m.\u001b[39mexperimental_get_tracing_count()\n\u001b[0;32m    918\u001b[0m without_tracing \u001b[38;5;241m=\u001b[39m (tracing_count \u001b[38;5;241m==\u001b[39m new_tracing_count)\n",
      "File \u001b[1;32mc:\\Users\\chiny\\anaconda3\\envs\\tf210gpu\\lib\\site-packages\\tensorflow\\python\\eager\\def_function.py:947\u001b[0m, in \u001b[0;36mFunction._call\u001b[1;34m(self, *args, **kwds)\u001b[0m\n\u001b[0;32m    944\u001b[0m   \u001b[38;5;28mself\u001b[39m\u001b[38;5;241m.\u001b[39m_lock\u001b[38;5;241m.\u001b[39mrelease()\n\u001b[0;32m    945\u001b[0m   \u001b[38;5;66;03m# In this case we have created variables on the first call, so we run the\u001b[39;00m\n\u001b[0;32m    946\u001b[0m   \u001b[38;5;66;03m# defunned version which is guaranteed to never create variables.\u001b[39;00m\n\u001b[1;32m--> 947\u001b[0m   \u001b[38;5;28;01mreturn\u001b[39;00m \u001b[38;5;28mself\u001b[39m\u001b[38;5;241m.\u001b[39m_stateless_fn(\u001b[38;5;241m*\u001b[39margs, \u001b[38;5;241m*\u001b[39m\u001b[38;5;241m*\u001b[39mkwds)  \u001b[38;5;66;03m# pylint: disable=not-callable\u001b[39;00m\n\u001b[0;32m    948\u001b[0m \u001b[38;5;28;01melif\u001b[39;00m \u001b[38;5;28mself\u001b[39m\u001b[38;5;241m.\u001b[39m_stateful_fn \u001b[38;5;129;01mis\u001b[39;00m \u001b[38;5;129;01mnot\u001b[39;00m \u001b[38;5;28;01mNone\u001b[39;00m:\n\u001b[0;32m    949\u001b[0m   \u001b[38;5;66;03m# Release the lock early so that multiple threads can perform the call\u001b[39;00m\n\u001b[0;32m    950\u001b[0m   \u001b[38;5;66;03m# in parallel.\u001b[39;00m\n\u001b[0;32m    951\u001b[0m   \u001b[38;5;28mself\u001b[39m\u001b[38;5;241m.\u001b[39m_lock\u001b[38;5;241m.\u001b[39mrelease()\n",
      "File \u001b[1;32mc:\\Users\\chiny\\anaconda3\\envs\\tf210gpu\\lib\\site-packages\\tensorflow\\python\\eager\\function.py:2496\u001b[0m, in \u001b[0;36mFunction.__call__\u001b[1;34m(self, *args, **kwargs)\u001b[0m\n\u001b[0;32m   2493\u001b[0m \u001b[38;5;28;01mwith\u001b[39;00m \u001b[38;5;28mself\u001b[39m\u001b[38;5;241m.\u001b[39m_lock:\n\u001b[0;32m   2494\u001b[0m   (graph_function,\n\u001b[0;32m   2495\u001b[0m    filtered_flat_args) \u001b[38;5;241m=\u001b[39m \u001b[38;5;28mself\u001b[39m\u001b[38;5;241m.\u001b[39m_maybe_define_function(args, kwargs)\n\u001b[1;32m-> 2496\u001b[0m \u001b[38;5;28;01mreturn\u001b[39;00m \u001b[43mgraph_function\u001b[49m\u001b[38;5;241;43m.\u001b[39;49m\u001b[43m_call_flat\u001b[49m\u001b[43m(\u001b[49m\n\u001b[0;32m   2497\u001b[0m \u001b[43m    \u001b[49m\u001b[43mfiltered_flat_args\u001b[49m\u001b[43m,\u001b[49m\u001b[43m \u001b[49m\u001b[43mcaptured_inputs\u001b[49m\u001b[38;5;241;43m=\u001b[39;49m\u001b[43mgraph_function\u001b[49m\u001b[38;5;241;43m.\u001b[39;49m\u001b[43mcaptured_inputs\u001b[49m\u001b[43m)\u001b[49m\n",
      "File \u001b[1;32mc:\\Users\\chiny\\anaconda3\\envs\\tf210gpu\\lib\\site-packages\\tensorflow\\python\\eager\\function.py:1862\u001b[0m, in \u001b[0;36mConcreteFunction._call_flat\u001b[1;34m(self, args, captured_inputs, cancellation_manager)\u001b[0m\n\u001b[0;32m   1858\u001b[0m possible_gradient_type \u001b[38;5;241m=\u001b[39m gradients_util\u001b[38;5;241m.\u001b[39mPossibleTapeGradientTypes(args)\n\u001b[0;32m   1859\u001b[0m \u001b[38;5;28;01mif\u001b[39;00m (possible_gradient_type \u001b[38;5;241m==\u001b[39m gradients_util\u001b[38;5;241m.\u001b[39mPOSSIBLE_GRADIENT_TYPES_NONE\n\u001b[0;32m   1860\u001b[0m     \u001b[38;5;129;01mand\u001b[39;00m executing_eagerly):\n\u001b[0;32m   1861\u001b[0m   \u001b[38;5;66;03m# No tape is watching; skip to running the function.\u001b[39;00m\n\u001b[1;32m-> 1862\u001b[0m   \u001b[38;5;28;01mreturn\u001b[39;00m \u001b[38;5;28mself\u001b[39m\u001b[38;5;241m.\u001b[39m_build_call_outputs(\u001b[38;5;28;43mself\u001b[39;49m\u001b[38;5;241;43m.\u001b[39;49m\u001b[43m_inference_function\u001b[49m\u001b[38;5;241;43m.\u001b[39;49m\u001b[43mcall\u001b[49m\u001b[43m(\u001b[49m\n\u001b[0;32m   1863\u001b[0m \u001b[43m      \u001b[49m\u001b[43mctx\u001b[49m\u001b[43m,\u001b[49m\u001b[43m \u001b[49m\u001b[43margs\u001b[49m\u001b[43m,\u001b[49m\u001b[43m \u001b[49m\u001b[43mcancellation_manager\u001b[49m\u001b[38;5;241;43m=\u001b[39;49m\u001b[43mcancellation_manager\u001b[49m\u001b[43m)\u001b[49m)\n\u001b[0;32m   1864\u001b[0m forward_backward \u001b[38;5;241m=\u001b[39m \u001b[38;5;28mself\u001b[39m\u001b[38;5;241m.\u001b[39m_select_forward_and_backward_functions(\n\u001b[0;32m   1865\u001b[0m     args,\n\u001b[0;32m   1866\u001b[0m     possible_gradient_type,\n\u001b[0;32m   1867\u001b[0m     executing_eagerly)\n\u001b[0;32m   1868\u001b[0m forward_function, args_with_tangents \u001b[38;5;241m=\u001b[39m forward_backward\u001b[38;5;241m.\u001b[39mforward()\n",
      "File \u001b[1;32mc:\\Users\\chiny\\anaconda3\\envs\\tf210gpu\\lib\\site-packages\\tensorflow\\python\\eager\\function.py:499\u001b[0m, in \u001b[0;36m_EagerDefinedFunction.call\u001b[1;34m(self, ctx, args, cancellation_manager)\u001b[0m\n\u001b[0;32m    497\u001b[0m \u001b[38;5;28;01mwith\u001b[39;00m _InterpolateFunctionError(\u001b[38;5;28mself\u001b[39m):\n\u001b[0;32m    498\u001b[0m   \u001b[38;5;28;01mif\u001b[39;00m cancellation_manager \u001b[38;5;129;01mis\u001b[39;00m \u001b[38;5;28;01mNone\u001b[39;00m:\n\u001b[1;32m--> 499\u001b[0m     outputs \u001b[38;5;241m=\u001b[39m \u001b[43mexecute\u001b[49m\u001b[38;5;241;43m.\u001b[39;49m\u001b[43mexecute\u001b[49m\u001b[43m(\u001b[49m\n\u001b[0;32m    500\u001b[0m \u001b[43m        \u001b[49m\u001b[38;5;28;43mstr\u001b[39;49m\u001b[43m(\u001b[49m\u001b[38;5;28;43mself\u001b[39;49m\u001b[38;5;241;43m.\u001b[39;49m\u001b[43msignature\u001b[49m\u001b[38;5;241;43m.\u001b[39;49m\u001b[43mname\u001b[49m\u001b[43m)\u001b[49m\u001b[43m,\u001b[49m\n\u001b[0;32m    501\u001b[0m \u001b[43m        \u001b[49m\u001b[43mnum_outputs\u001b[49m\u001b[38;5;241;43m=\u001b[39;49m\u001b[38;5;28;43mself\u001b[39;49m\u001b[38;5;241;43m.\u001b[39;49m\u001b[43m_num_outputs\u001b[49m\u001b[43m,\u001b[49m\n\u001b[0;32m    502\u001b[0m \u001b[43m        \u001b[49m\u001b[43minputs\u001b[49m\u001b[38;5;241;43m=\u001b[39;49m\u001b[43margs\u001b[49m\u001b[43m,\u001b[49m\n\u001b[0;32m    503\u001b[0m \u001b[43m        \u001b[49m\u001b[43mattrs\u001b[49m\u001b[38;5;241;43m=\u001b[39;49m\u001b[43mattrs\u001b[49m\u001b[43m,\u001b[49m\n\u001b[0;32m    504\u001b[0m \u001b[43m        \u001b[49m\u001b[43mctx\u001b[49m\u001b[38;5;241;43m=\u001b[39;49m\u001b[43mctx\u001b[49m\u001b[43m)\u001b[49m\n\u001b[0;32m    505\u001b[0m   \u001b[38;5;28;01melse\u001b[39;00m:\n\u001b[0;32m    506\u001b[0m     outputs \u001b[38;5;241m=\u001b[39m execute\u001b[38;5;241m.\u001b[39mexecute_with_cancellation(\n\u001b[0;32m    507\u001b[0m         \u001b[38;5;28mstr\u001b[39m(\u001b[38;5;28mself\u001b[39m\u001b[38;5;241m.\u001b[39msignature\u001b[38;5;241m.\u001b[39mname),\n\u001b[0;32m    508\u001b[0m         num_outputs\u001b[38;5;241m=\u001b[39m\u001b[38;5;28mself\u001b[39m\u001b[38;5;241m.\u001b[39m_num_outputs,\n\u001b[1;32m   (...)\u001b[0m\n\u001b[0;32m    511\u001b[0m         ctx\u001b[38;5;241m=\u001b[39mctx,\n\u001b[0;32m    512\u001b[0m         cancellation_manager\u001b[38;5;241m=\u001b[39mcancellation_manager)\n",
      "File \u001b[1;32mc:\\Users\\chiny\\anaconda3\\envs\\tf210gpu\\lib\\site-packages\\tensorflow\\python\\eager\\execute.py:54\u001b[0m, in \u001b[0;36mquick_execute\u001b[1;34m(op_name, num_outputs, inputs, attrs, ctx, name)\u001b[0m\n\u001b[0;32m     52\u001b[0m \u001b[38;5;28;01mtry\u001b[39;00m:\n\u001b[0;32m     53\u001b[0m   ctx\u001b[38;5;241m.\u001b[39mensure_initialized()\n\u001b[1;32m---> 54\u001b[0m   tensors \u001b[38;5;241m=\u001b[39m \u001b[43mpywrap_tfe\u001b[49m\u001b[38;5;241;43m.\u001b[39;49m\u001b[43mTFE_Py_Execute\u001b[49m\u001b[43m(\u001b[49m\u001b[43mctx\u001b[49m\u001b[38;5;241;43m.\u001b[39;49m\u001b[43m_handle\u001b[49m\u001b[43m,\u001b[49m\u001b[43m \u001b[49m\u001b[43mdevice_name\u001b[49m\u001b[43m,\u001b[49m\u001b[43m \u001b[49m\u001b[43mop_name\u001b[49m\u001b[43m,\u001b[49m\n\u001b[0;32m     55\u001b[0m \u001b[43m                                      \u001b[49m\u001b[43minputs\u001b[49m\u001b[43m,\u001b[49m\u001b[43m \u001b[49m\u001b[43mattrs\u001b[49m\u001b[43m,\u001b[49m\u001b[43m \u001b[49m\u001b[43mnum_outputs\u001b[49m\u001b[43m)\u001b[49m\n\u001b[0;32m     56\u001b[0m \u001b[38;5;28;01mexcept\u001b[39;00m core\u001b[38;5;241m.\u001b[39m_NotOkStatusException \u001b[38;5;28;01mas\u001b[39;00m e:\n\u001b[0;32m     57\u001b[0m   \u001b[38;5;28;01mif\u001b[39;00m name \u001b[38;5;129;01mis\u001b[39;00m \u001b[38;5;129;01mnot\u001b[39;00m \u001b[38;5;28;01mNone\u001b[39;00m:\n",
      "\u001b[1;31mKeyboardInterrupt\u001b[0m: "
     ]
    }
   ],
   "source": [
    "d_fm = {\n",
    "  \"disc_lr\": 0.008164257207259593,\n",
    "  \"epochs\": 64,\n",
    "  \"fm_weight_e\": 0.0010744630994051387,\n",
    "  \"fm_weight_h\": 0.6169157082064088,\n",
    "  \"gen_lr\": 0.006280181923387721,\n",
    "  \"label_smoothing\": 0.0,\n",
    "  \"n_batches\": 8,\n",
    "  \"sample_size\": 20000,\n",
    "  \"seed\": 1324,\n",
    "  \"use_minibatch_discrimination\": False,\n",
    "  \"z_dim\": 256\n",
    "}\n",
    "\n",
    "d_all = {\n",
    "  \"disc_lr\": 0.008164257207259593,\n",
    "  \"epochs\": 64,\n",
    "  \"fm_weight_e\": 0.0010744630994051387,\n",
    "  \"fm_weight_h\": 0.6169157082064088,\n",
    "  \"gen_lr\": 0.006280181923387721,\n",
    "  \"label_smoothing\": 0.0015746702525331782,\n",
    "  \"n_batches\": 8,\n",
    "  \"sample_size\": 20000,\n",
    "  \"seed\": 1324,\n",
    "  \"use_minibatch_discrimination\": True,\n",
    "  \"z_dim\": 256\n",
    "}\n",
    "\n",
    "configs = [d_fm, d_all]\n",
    "OUTPUT_DIR = Path('output/Best FM model vs All modifications')\n",
    "OUTPUT_DIR.mkdir(parents=True, exist_ok=True)\n",
    "\n",
    "for config_dict in configs:\n",
    "    config = Config(**config_dict)\n",
    "    key_output_dir = OUTPUT_DIR / config.get_key()\n",
    "\n",
    "    train_model(output_dir=OUTPUT_DIR, raw_data=raw_data, config=config)"
   ]
  },
  {
   "cell_type": "code",
   "execution_count": null,
   "id": "d5d68eee",
   "metadata": {},
   "outputs": [
    {
     "name": "stdout",
     "output_type": "stream",
     "text": [
      "\n",
      "Processing All Modifications...\n",
      "Exported config\n",
      "Exported metrics\n"
     ]
    },
    {
     "name": "stderr",
     "output_type": "stream",
     "text": [
      "c:\\DSA5204\\DSA5204-Group-9\\lob\\lob_gan.py:112: UserWarning: All values for SymLogScale are below linthresh, making it effectively linear. You likely should lower the value of linthresh. \n",
      "  ax.axhline(0, color='k', alpha=0.2)\n"
     ]
    },
    {
     "name": "stdout",
     "output_type": "stream",
     "text": [
      "Exported 65 LOB snapshots to images\n",
      "\n",
      "Processing Best FM...\n",
      "Exported config\n",
      "Exported metrics\n"
     ]
    },
    {
     "name": "stderr",
     "output_type": "stream",
     "text": [
      "c:\\DSA5204\\DSA5204-Group-9\\lob\\lob_gan.py:112: UserWarning: All values for SymLogScale are below linthresh, making it effectively linear. You likely should lower the value of linthresh. \n",
      "  ax.axhline(0, color='k', alpha=0.2)\n"
     ]
    },
    {
     "name": "stdout",
     "output_type": "stream",
     "text": [
      "Exported 65 LOB snapshots to images\n",
      "\n",
      "All model outputs processed.\n"
     ]
    }
   ],
   "source": [
    "export_model_outputs(output_root=OUTPUT_DIR, plot_lob_snapshot=plot_lob_snapshot)\n",
    "plot_all_model_metrics(output_root=OUTPUT_DIR)\n",
    "compare_models(output_root=OUTPUT_DIR)"
   ]
  },
  {
   "cell_type": "markdown",
   "id": "4f26941c",
   "metadata": {},
   "source": [
    "### Best fm_only vs baseline. "
   ]
  },
  {
   "cell_type": "code",
   "execution_count": 61,
   "id": "9edbf3ab",
   "metadata": {},
   "outputs": [
    {
     "name": "stderr",
     "output_type": "stream",
     "text": [
      "100%|██████████| 64/64 [00:09<00:00,  6.41it/s]\n"
     ]
    },
    {
     "name": "stdout",
     "output_type": "stream",
     "text": [
      "Training completed in 0.17 minutes\n",
      "finished trainining 0c00f834e65025416dd3773c1303d1d99cab405757234944780960c762cb0023\n"
     ]
    },
    {
     "name": "stderr",
     "output_type": "stream",
     "text": [
      "100%|██████████| 64/64 [00:08<00:00,  7.79it/s]"
     ]
    },
    {
     "name": "stdout",
     "output_type": "stream",
     "text": [
      "Training completed in 0.14 minutes\n",
      "finished trainining 1d9ba17ba53ddec69599ee323f75092822f1c0724126e4dfaa20b65fc8d261e2\n"
     ]
    },
    {
     "name": "stderr",
     "output_type": "stream",
     "text": [
      "\n"
     ]
    }
   ],
   "source": [
    "d_fm = {\n",
    "  \"disc_lr\": 0.008164257207259593,\n",
    "  \"epochs\": 64,\n",
    "  \"fm_weight_e\": 0.0010744630994051387,\n",
    "  \"fm_weight_h\": 0.6169157082064088,\n",
    "  \"gen_lr\": 0.006280181923387721,\n",
    "  \"label_smoothing\": 0.0,\n",
    "  \"n_batches\": 8,\n",
    "  \"sample_size\": 20000,\n",
    "  \"seed\": 1324,\n",
    "  \"use_minibatch_discrimination\": False,\n",
    "  \"z_dim\": 256\n",
    "}\n",
    "\n",
    "d_baseline = {\n",
    "  \"disc_lr\": 0.003497033397477862,\n",
    "  \"epochs\": 64,\n",
    "  \"fm_weight_e\": 0.0,\n",
    "  \"fm_weight_h\": 0.0,\n",
    "  \"gen_lr\": 0.0031274082971189366,\n",
    "  \"label_smoothing\": 0.0,\n",
    "  \"n_batches\": 16,\n",
    "  \"sample_size\": 20000,\n",
    "  \"seed\": 1324,\n",
    "  \"use_minibatch_discrimination\": False,\n",
    "  \"z_dim\": 256\n",
    "}\n",
    "\n",
    "configs = [d_fm, d_baseline ]\n",
    "OUTPUT_DIR = Path('output/Best FM vs Best Baseline')\n",
    "OUTPUT_DIR.mkdir(parents=True, exist_ok=True)\n",
    "\n",
    "for config_dict in configs:\n",
    "    config = Config(**config_dict)\n",
    "    key_output_dir = OUTPUT_DIR / config.get_key()\n",
    "\n",
    "    train_model(output_dir=OUTPUT_DIR, raw_data=raw_data, config=config)"
   ]
  },
  {
   "cell_type": "code",
   "execution_count": 62,
   "id": "70146fd5",
   "metadata": {},
   "outputs": [
    {
     "name": "stderr",
     "output_type": "stream",
     "text": [
      "c:\\DSA5204\\DSA5204-Group-9\\lob\\lob_gan.py:112: UserWarning: All values for SymLogScale are below linthresh, making it effectively linear. You likely should lower the value of linthresh. \n",
      "  ax.axhline(0, color='k', alpha=0.2)\n"
     ]
    },
    {
     "name": "stdout",
     "output_type": "stream",
     "text": [
      "\n",
      "Processing 0c00f834e65025416dd3773c1303d1d99cab405757234944780960c762cb0023...\n",
      "Exported config\n",
      "Exported metrics\n",
      "Exported 65 LOB snapshots to images\n",
      "\n",
      "Processing 1d9ba17ba53ddec69599ee323f75092822f1c0724126e4dfaa20b65fc8d261e2...\n",
      "Exported config\n",
      "Exported metrics\n"
     ]
    },
    {
     "name": "stderr",
     "output_type": "stream",
     "text": [
      "c:\\DSA5204\\DSA5204-Group-9\\lob\\lob_gan.py:112: UserWarning: All values for SymLogScale are below linthresh, making it effectively linear. You likely should lower the value of linthresh. \n",
      "  ax.axhline(0, color='k', alpha=0.2)\n"
     ]
    },
    {
     "name": "stdout",
     "output_type": "stream",
     "text": [
      "Exported 65 LOB snapshots to images\n",
      "\n",
      "All model outputs processed.\n",
      "Exported all comparison plots to 'data_compare'\n"
     ]
    }
   ],
   "source": [
    "export_model_outputs(output_root=OUTPUT_DIR, plot_lob_snapshot=plot_lob_snapshot)\n",
    "plot_all_model_metrics(output_root=OUTPUT_DIR)\n",
    "compare_models(output_root=OUTPUT_DIR)"
   ]
  },
  {
   "cell_type": "markdown",
   "id": "7ef606dc",
   "metadata": {},
   "source": [
    "### Best ls_only vs baseline"
   ]
  },
  {
   "cell_type": "code",
   "execution_count": 64,
   "id": "c7578c3b",
   "metadata": {},
   "outputs": [
    {
     "name": "stderr",
     "output_type": "stream",
     "text": [
      "100%|██████████| 64/64 [00:11<00:00,  5.59it/s]\n"
     ]
    },
    {
     "name": "stdout",
     "output_type": "stream",
     "text": [
      "Training completed in 0.19 minutes\n",
      "finished trainining 376c5a336cb5a52e2d0d03403add2063db73f183e8ec37e20b7777bd5c61e940\n"
     ]
    },
    {
     "name": "stderr",
     "output_type": "stream",
     "text": [
      "100%|██████████| 64/64 [00:08<00:00,  7.43it/s]"
     ]
    },
    {
     "name": "stdout",
     "output_type": "stream",
     "text": [
      "Training completed in 0.15 minutes\n",
      "finished trainining 1d9ba17ba53ddec69599ee323f75092822f1c0724126e4dfaa20b65fc8d261e2\n"
     ]
    },
    {
     "name": "stderr",
     "output_type": "stream",
     "text": [
      "\n"
     ]
    }
   ],
   "source": [
    "d_ls = {\n",
    "  \"disc_lr\": 0.0010006778193875844,\n",
    "  \"epochs\": 64,\n",
    "  \"fm_weight_e\": 0.0,\n",
    "  \"fm_weight_h\": 0.0,\n",
    "  \"gen_lr\": 0.006341521084444159,\n",
    "  \"label_smoothing\": 0.0015746702525331782,\n",
    "  \"n_batches\": 32,\n",
    "  \"sample_size\": 20000,\n",
    "  \"seed\": 1324,\n",
    "  \"use_minibatch_discrimination\": False,\n",
    "  \"z_dim\": 128\n",
    "}\n",
    "\n",
    "d_baseline = {\n",
    "  \"disc_lr\": 0.003497033397477862,\n",
    "  \"epochs\": 64,\n",
    "  \"fm_weight_e\": 0.0,\n",
    "  \"fm_weight_h\": 0.0,\n",
    "  \"gen_lr\": 0.0031274082971189366,\n",
    "  \"label_smoothing\": 0.0,\n",
    "  \"n_batches\": 16,\n",
    "  \"sample_size\": 20000,\n",
    "  \"seed\": 1324,\n",
    "  \"use_minibatch_discrimination\": False,\n",
    "  \"z_dim\": 256\n",
    "}\n",
    "\n",
    "configs = [d_ls, d_baseline ]\n",
    "OUTPUT_DIR = Path('output/Best LS vs Best Baseline')\n",
    "OUTPUT_DIR.mkdir(parents=True, exist_ok=True)\n",
    "\n",
    "for config_dict in configs:\n",
    "    config = Config(**config_dict)\n",
    "    key_output_dir = OUTPUT_DIR / config.get_key()\n",
    "\n",
    "    train_model(output_dir=OUTPUT_DIR, raw_data=raw_data, config=config)"
   ]
  },
  {
   "cell_type": "code",
   "execution_count": null,
   "id": "282b17e9",
   "metadata": {},
   "outputs": [
    {
     "name": "stderr",
     "output_type": "stream",
     "text": [
      "c:\\DSA5204\\DSA5204-Group-9\\lob\\lob_gan.py:112: UserWarning: All values for SymLogScale are below linthresh, making it effectively linear. You likely should lower the value of linthresh. \n",
      "  ax.axhline(0, color='k', alpha=0.2)\n"
     ]
    },
    {
     "name": "stdout",
     "output_type": "stream",
     "text": [
      "\n",
      "Processing 1d9ba17ba53ddec69599ee323f75092822f1c0724126e4dfaa20b65fc8d261e2...\n",
      "Exported config\n",
      "Exported metrics\n",
      "Exported 65 LOB snapshots to images\n",
      "\n",
      "Processing 376c5a336cb5a52e2d0d03403add2063db73f183e8ec37e20b7777bd5c61e940...\n",
      "Exported config\n",
      "Exported metrics\n"
     ]
    },
    {
     "name": "stderr",
     "output_type": "stream",
     "text": [
      "c:\\DSA5204\\DSA5204-Group-9\\lob\\lob_gan.py:112: UserWarning: All values for SymLogScale are below linthresh, making it effectively linear. You likely should lower the value of linthresh. \n",
      "  ax.axhline(0, color='k', alpha=0.2)\n"
     ]
    }
   ],
   "source": [
    "export_model_outputs(output_root=OUTPUT_DIR, plot_lob_snapshot=plot_lob_snapshot)\n",
    "plot_all_model_metrics(output_root=OUTPUT_DIR)\n",
    "compare_models(output_root=OUTPUT_DIR)"
   ]
  },
  {
   "cell_type": "markdown",
   "id": "f99ba170",
   "metadata": {},
   "source": [
    "### Best mbd only vs baseline"
   ]
  },
  {
   "cell_type": "code",
   "execution_count": null,
   "id": "4d24a6ca",
   "metadata": {},
   "outputs": [],
   "source": [
    "d_mbd = {\n",
    "  \"disc_lr\": 0.009104253947742358,\n",
    "  \"epochs\": 64,\n",
    "  \"fm_weight_e\": 0.0,\n",
    "  \"fm_weight_h\": 0.0,\n",
    "  \"gen_lr\": 0.0016711948483970965,\n",
    "  \"label_smoothing\": 0.0,\n",
    "  \"n_batches\": 8,\n",
    "  \"sample_size\": 20000,\n",
    "  \"seed\": 1324,\n",
    "  \"use_minibatch_discrimination\": true,\n",
    "  \"z_dim\": 64\n",
    "}\n",
    "\n",
    "d_baseline = {\n",
    "  \"disc_lr\": 0.003497033397477862,\n",
    "  \"epochs\": 64,\n",
    "  \"fm_weight_e\": 0.0,\n",
    "  \"fm_weight_h\": 0.0,\n",
    "  \"gen_lr\": 0.0031274082971189366,\n",
    "  \"label_smoothing\": 0.0,\n",
    "  \"n_batches\": 16,\n",
    "  \"sample_size\": 20000,\n",
    "  \"seed\": 1324,\n",
    "  \"use_minibatch_discrimination\": False,\n",
    "  \"z_dim\": 256\n",
    "}\n",
    "\n",
    "configs = [d_mbd, d_baseline ]\n",
    "OUTPUT_DIR = Path('output/Best MBD vs Best Baseline')\n",
    "OUTPUT_DIR.mkdir(parents=True, exist_ok=True)\n",
    "\n",
    "for config_dict in configs:\n",
    "    config = Config(**config_dict)\n",
    "    key_output_dir = OUTPUT_DIR / config.get_key()\n",
    "\n",
    "    train_model(output_dir=OUTPUT_DIR, raw_data=raw_data, config=config)"
   ]
  },
  {
   "cell_type": "code",
   "execution_count": null,
   "id": "1923b7d4",
   "metadata": {},
   "outputs": [],
   "source": [
    "export_model_outputs(output_root=OUTPUT_DIR, plot_lob_snapshot=plot_lob_snapshot)\n",
    "plot_all_model_metrics(output_root=OUTPUT_DIR)\n",
    "compare_models(output_root=OUTPUT_DIR)"
   ]
  },
  {
   "cell_type": "code",
   "execution_count": null,
   "id": "d3aff1f0",
   "metadata": {},
   "outputs": [],
   "source": [
    "FILE_PATH = Path('BTCUSDT-lob.parq')\n",
    "raw_data = pd.read_parquet(FILE_PATH)\n",
    "\n",
    "output_folder = Path(\"raw_lob_snapshots\")\n",
    "output_folder.mkdir(exist_ok=True)\n",
    "\n",
    "for i in range(10):\n",
    "    fig, ax = plt.subplots(figsize=(4, 4))\n",
    "    plot_raw_lob_snapshot(raw_data.iloc[i], full_df=raw_data, ax=ax)\n",
    "    plt.tight_layout()\n",
    "    plt.savefig(output_folder / f\"raw_lob_{i:03}.png\")\n",
    "    plt.close()"
   ]
  },
  {
   "cell_type": "code",
   "execution_count": null,
   "id": "815ccd70",
   "metadata": {},
   "outputs": [],
   "source": []
  }
 ],
 "metadata": {
  "kernelspec": {
   "display_name": "tf210gpu",
   "language": "python",
   "name": "python3"
  },
  "language_info": {
   "codemirror_mode": {
    "name": "ipython",
    "version": 3
   },
   "file_extension": ".py",
   "mimetype": "text/x-python",
   "name": "python",
   "nbconvert_exporter": "python",
   "pygments_lexer": "ipython3",
   "version": "3.9.17"
  }
 },
 "nbformat": 4,
 "nbformat_minor": 5
}
